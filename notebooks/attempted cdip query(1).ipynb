{
 "cells": [
  {
   "cell_type": "code",
   "execution_count": 47,
   "id": "e999dd88",
   "metadata": {},
   "outputs": [],
   "source": [
    "import pandas as pd\n",
    "import numpy as np\n",
    "\n",
    "\n",
    "\n",
    "import matplotlib.pyplot as plt\n",
    "import netCDF4\n",
    "import numpy as np\n",
    "import datetime\n",
    "import time\n",
    "import calendar"
   ]
  },
  {
   "cell_type": "code",
   "execution_count": null,
   "id": "7db55e50",
   "metadata": {},
   "outputs": [],
   "source": [
    "'073p1/073p1_historic.nc'"
   ]
  },
  {
   "cell_type": "code",
   "execution_count": 73,
   "id": "0359d4b4",
   "metadata": {},
   "outputs": [
    {
     "ename": "OSError",
     "evalue": "[Errno -90] NetCDF: file not found: b'http://thredds.cdip.ucsd.edu/thredds/dodsC/cdip/archive/073p1/073p1_historic.nc'",
     "output_type": "error",
     "traceback": [
      "\u001b[0;31m---------------------------------------------------------------------------\u001b[0m",
      "\u001b[0;31mOSError\u001b[0m                                   Traceback (most recent call last)",
      "Input \u001b[0;32mIn [73]\u001b[0m, in \u001b[0;36m<cell line: 8>\u001b[0;34m()\u001b[0m\n\u001b[1;32m      5\u001b[0m data_url \u001b[38;5;241m=\u001b[39m \u001b[38;5;124m'\u001b[39m\u001b[38;5;124mhttp://thredds.cdip.ucsd.edu/thredds/dodsC/cdip/archive/\u001b[39m\u001b[38;5;124m'\u001b[39m \u001b[38;5;241m+\u001b[39m stn \u001b[38;5;241m+\u001b[39m \u001b[38;5;124m'\u001b[39m\u001b[38;5;124mp1/\u001b[39m\u001b[38;5;124m'\u001b[39m \u001b[38;5;241m+\u001b[39m stn \u001b[38;5;241m+\u001b[39m \u001b[38;5;124m'\u001b[39m\u001b[38;5;124mp1_historic.nc\u001b[39m\u001b[38;5;124m'\u001b[39m\n\u001b[1;32m      6\u001b[0m \u001b[38;5;66;03m# CDIP Realtime Dataset URL\u001b[39;00m\n\u001b[1;32m      7\u001b[0m \u001b[38;5;66;03m# data_url = 'http://thredds.cdip.ucsd.edu/thredds/dodsC/cdip/realtime/' + stn + 'p1_rt.nc'\u001b[39;00m\n\u001b[0;32m----> 8\u001b[0m nc \u001b[38;5;241m=\u001b[39m \u001b[43mnetCDF4\u001b[49m\u001b[38;5;241;43m.\u001b[39;49m\u001b[43mDataset\u001b[49m\u001b[43m(\u001b[49m\u001b[43mdata_url\u001b[49m\u001b[43m)\u001b[49m\n",
      "File \u001b[0;32msrc/netCDF4/_netCDF4.pyx:2463\u001b[0m, in \u001b[0;36mnetCDF4._netCDF4.Dataset.__init__\u001b[0;34m()\u001b[0m\n",
      "File \u001b[0;32msrc/netCDF4/_netCDF4.pyx:2026\u001b[0m, in \u001b[0;36mnetCDF4._netCDF4._ensure_nc_success\u001b[0;34m()\u001b[0m\n",
      "\u001b[0;31mOSError\u001b[0m: [Errno -90] NetCDF: file not found: b'http://thredds.cdip.ucsd.edu/thredds/dodsC/cdip/archive/073p1/073p1_historic.nc'"
     ]
    }
   ],
   "source": [
    "stn = '073'\n",
    "startdate = \"01/01/2010\" # MM/DD/YYYY\n",
    "enddate = \"08/2014\"\n",
    "\n",
    "data_url = 'http://thredds.cdip.ucsd.edu/thredds/dodsC/cdip/archive/' + stn + 'p1/' + stn + 'p1_historic.nc'\n",
    "# CDIP Realtime Dataset URL\n",
    "# data_url = 'http://thredds.cdip.ucsd.edu/thredds/dodsC/cdip/realtime/' + stn + 'p1_rt.nc'\n",
    "nc = netCDF4.Dataset(data_url)"
   ]
  },
  {
   "cell_type": "code",
   "execution_count": 72,
   "id": "2e716924",
   "metadata": {
    "scrolled": false
   },
   "outputs": [
    {
     "data": {
      "text/plain": [
       "<class 'netCDF4._netCDF4.Dataset'>\n",
       "root group (NETCDF3_CLASSIC data model, file format DAP2):\n",
       "    naming_authority: edu.ucsd.cdip\n",
       "    keywords_vocabulary: Global Change Master Directory (GCMD) Earth Science Keywords\n",
       "    date_created: 2022-01-24T18:21:42Z\n",
       "    date_issued: 2022-01-24T18:21:42Z\n",
       "    creator_name: Coastal Data Information Program, SIO/UCSD\n",
       "    creator_url: http://cdip.ucsd.edu\n",
       "    creator_email: www@cdip.ucsd.edu\n",
       "    publisher_name: Coastal Data Information Program, SIO/UCSD\n",
       "    publisher_url: http://cdip.ucsd.edu\n",
       "    publisher_email: www@cdip.ucsd.edu\n",
       "    institution: Scripps Institution of Oceanography, University of California San Diego\n",
       "    project: Coastal Data Information Program (CDIP)\n",
       "    processing_level: QA/QC information available at http://cdip.ucsd.edu/documentation\n",
       "    standard_name_vocabulary: CF Standard Name Table (v29, 08 July 2015)\n",
       "    Conventions: ACDD-1.3, CF-1.6\n",
       "    license: These data may be redistributed and used without restriction.\n",
       "    cdm_data_type: Station\n",
       "    featureType: timeSeries\n",
       "    ncei_template_version: NCEI_NetCDF_TimeSeries_Orthogonal_Template_v2.0\n",
       "    references: http://cdip.ucsd.edu/documentation\n",
       "    title: Directional wave and sea surface temperature measurements collected in situ by Datawell Waverider buoys located near SCRIPPS NEARSHORE, CA from 2013/03/27 to 2021/11/10.\n",
       "    summary: Directional wave and sea surface temperature measurements collected in situ by Datawell Waverider buoys located near SCRIPPS NEARSHORE, CA from 2013/03/27 to 2021/11/10. This dataset includes publicly-released data only, excluding all records flagged bad by quality control procedures. A total of 147773 wave samples were analyzed for this area, where the water depth is approximately 39 to 46 meters.\n",
       "    keywords: EARTH SCIENCE, OCEANS, OCEAN WAVES, GRAVITY WAVES, WIND WAVES, SIGNIFICANT WAVE HEIGHT, WAVE FREQUENCY, WAVE PERIOD, WAVE SPECTRA, OCEAN TEMPERATURE, SEA SURFACE TEMPERATURE, WATER TEMPERATURE, OCEAN, PACIFIC OCEAN, EASTERN PACIFIC OCEAN, ATMOSPHERE, ATMOSPHERIC TEMPERATURE, SURFACE TEMPERATURE, OCEAN CIRCULATION, OCEAN CURRENTS\n",
       "    id: CDIP_201p1_20130327-20211110_historic\n",
       "    comment: Spectral layout and wave variables adjusted for some deployments, note waveFlagSecondary values. Multiple deployments may be included in this dataset. Please refer to the per-deployment datasets - as referenced by sourceFilename and the xxxSourceIndex variables - for more complete metadata. All values are decoded directly from the instruments in accordance with the manufacturers documentation EXCEPT for those with the attribute :additional_processing.\n",
       "    acknowledgment: CDIP is primarily supported by the U.S. Army Corps of Engineers (USACE). Station partner: CORDC ; Field operator: CDIP\n",
       "    metadata_link: http://cdip.ucsd.edu/metadata/201p1\n",
       "    contributor_name: CDIP, CORDC/USACE\n",
       "    contributor_role: station operation, station funding\n",
       "    geospatial_lat_min: 32.866383\n",
       "    geospatial_lat_max: 32.874786\n",
       "    geospatial_lat_units: degrees_north\n",
       "    geospatial_lat_resolution: 1e-04\n",
       "    geospatial_lon_min: -117.268524\n",
       "    geospatial_lon_max: -117.26323\n",
       "    geospatial_lon_units: degrees_east\n",
       "    geospatial_lon_resolution: 1e-04\n",
       "    geospatial_vertical_min: 0.0\n",
       "    geospatial_vertical_max: 0.0\n",
       "    geospatial_vertical_units: meters\n",
       "    geospatial_vertical_origin: sea surface\n",
       "    geospatial_vertical_positive: up\n",
       "    geospatial_vertical_resolution: 1.0\n",
       "    time_coverage_start: 2013-03-27T19:00:00Z\n",
       "    time_coverage_end: 2021-11-10T19:59:59Z\n",
       "    time_coverage_duration: P0450W0DT00H60M\n",
       "    time_coverage_resolution: PT30M\n",
       "    source: insitu observations\n",
       "    platform: metaPlatform\n",
       "    instrument: metaInstrumentation\n",
       "    date_modified: 2022-02-01T17:07:59Z\n",
       "    uuid: 54A056B2-6866-4179-94EE-94360EC3330E\n",
       "    history: 2022-02-01T17:07:59Z: update_acm_direction() - corrected NaN ACM directions to 0.0. 2022-01-24T18:21:43Z: dataset created; user, program, arguments: uproc, wnc_aggregate_hist v1.0, 201p1 01 07. If date_modified is after date_created, contact CDIP for details of changes.\n",
       "    DODS.strlen: 0\n",
       "    DODS.dimName: metaStationNameLength\n",
       "    dimensions(sizes): acmTime(36177), cat4Time(120413), dwrTime(147784), gpsTime(207357), maxStrlen64(64), metaBoundsCount(2), metaDeployCount(6), sourceCount(6), sstTime(318140), syncTime(12426), upcrossQuantileLength(23), upcrossTime(12426), waveFrequency(64), waveTime(147773)\n",
       "    variables(dimensions): |S1 sourceFilename(sourceCount, maxStrlen64), int32 waveTime(waveTime), int32 waveTimeBounds(waveTime, metaBoundsCount), int8 waveFlagPrimary(waveTime), int8 waveFlagSecondary(waveTime), float32 waveHs(waveTime), float32 waveTp(waveTime), float32 waveTa(waveTime), float32 waveDp(waveTime), float32 wavePeakPSD(waveTime), float32 waveTz(waveTime), int32 waveSourceIndex(waveTime), float32 waveFrequency(waveFrequency), float32 waveFrequencyBounds(waveFrequency, metaBoundsCount), int8 waveFrequencyFlagPrimary(waveFrequency), int8 waveFrequencyFlagSecondary(waveFrequency), float32 waveBandwidth(waveFrequency), int32 sstTime(sstTime), int32 sstTimeBounds(sstTime, metaBoundsCount), int8 sstFlagPrimary(sstTime), int8 sstFlagSecondary(sstTime), float32 sstSeaSurfaceTemperature(sstTime), int32 sstSourceIndex(sstTime), float32 sstReferenceTemp(sstTime), int32 gpsTime(gpsTime), int32 gpsTimeBounds(gpsTime, metaBoundsCount), int8 gpsStatusFlags(gpsTime), float32 gpsLatitude(gpsTime), float32 gpsLongitude(gpsTime), int32 gpsSourceIndex(gpsTime), int32 acmTime(acmTime), int32 acmTimeBounds(acmTime, metaBoundsCount), int8 acmFlagPrimary(acmTime), int8 acmFlagSecondary(acmTime), float32 acmSpeed(acmTime), float32 acmSpeedStdDev(acmTime), float32 acmDirection(acmTime), float32 acmDirectionStdDev(acmTime), float32 acmSignalStrength1(acmTime), float32 acmSignalStrength2(acmTime), float32 acmSignalStrength3(acmTime), int8 acmStatus(acmTime), float32 acmSeaSurfaceTemperature(acmTime), float32 acmVerticalSpeed(acmTime), float32 acmVerticalSpeedStdDev(acmTime), int32 acmSourceIndex(acmTime), int32 dwrTime(dwrTime), int32 dwrTimeBounds(dwrTime, metaBoundsCount), int32 dwrSourceIndex(dwrTime), int32 dwrBatteryLevel(dwrTime), float32 dwrZAccelerometerOffset(dwrTime), float32 dwrXAccelerometerOffset(dwrTime), float32 dwrYAccelerometerOffset(dwrTime), float32 dwrOrientation(dwrTime), float32 dwrInclination(dwrTime), int32 dwrBatteryWeeksOfLife(dwrTime), int32 upcrossTime(upcrossTime), int32 upcrossTimeBounds(upcrossTime, metaBoundsCount), int8 upcrossFlagPrimary(upcrossTime), int8 upcrossFlagSecondary(upcrossTime), int32 upcrossSourceIndex(upcrossTime), int32 upcrossCrestCount(upcrossTime), int32 upcrossWaveCount(upcrossTime), float32 upcrossHavg(upcrossTime), float32 upcrossHmax(upcrossTime), float32 upcrossHrms(upcrossTime), float32 upcrossH_at_Tmax(upcrossTime), float32 upcrossT_at_Hmax(upcrossTime), float32 upcrossTz(upcrossTime), float32 upcrossTmax(upcrossTime), float32 upcrossBandwidth(upcrossTime), float32 upcrossCoverage(upcrossTime), float32 upcrossHtenth(upcrossTime), float32 upcrossHthird(upcrossTime), float32 upcrossTofHtenth(upcrossTime), float32 upcrossTofHthird(upcrossTime), float32 upcrossQuantileHeight(upcrossTime, upcrossQuantileLength), int32 syncTime(syncTime), int32 syncTimeBounds(syncTime, metaBoundsCount), int32 syncSourceIndex(syncTime), int32 syncSegmentCount(syncTime), int32 syncSegmentsUsed(syncTime), int32 syncSamples(syncTime), |S1 syncLastDisplacements(syncTime, maxStrlen64), int32 cat4Time(cat4Time), int32 cat4TimeBounds(cat4Time, metaBoundsCount), int8 cat4FlagPrimary(cat4Time), int8 cat4FlagSecondary(cat4Time), float32 cat4AirTemperature(cat4Time), int32 cat4SourceIndex(cat4Time), int8 cat4StatusFlags(cat4Time), float32 cat4WhiteTemperature(cat4Time), float32 cat4BlackTemperature(cat4Time), float32 cat4MetalTemperature(cat4Time), float32 cat4GroovedTemperature(cat4Time), float32 metaDeployLatitude(metaDeployCount), float32 metaDeployLongitude(metaDeployCount), float32 metaWaterDepth(metaDeployCount), float32 metaDeclination(metaDeployCount), |S1 metaStationName(maxStrlen64), float32 metaStationLatitude(), float32 metaStationLongitude(), |S1 metaPlatform(maxStrlen64), |S1 metaInstrumentation(maxStrlen64), |S1 metaGridMapping(maxStrlen64), float32 waveEnergyDensity(waveTime, waveFrequency), float32 waveMeanDirection(waveTime, waveFrequency), float32 waveA1Value(waveTime, waveFrequency), float32 waveB1Value(waveTime, waveFrequency), float32 waveA2Value(waveTime, waveFrequency), float32 waveB2Value(waveTime, waveFrequency), float32 waveCheckFactor(waveTime, waveFrequency), float32 waveSpread(waveTime, waveFrequency), float32 waveM2Value(waveTime, waveFrequency), float32 waveN2Value(waveTime, waveFrequency)\n",
       "    groups: "
      ]
     },
     "execution_count": 72,
     "metadata": {},
     "output_type": "execute_result"
    }
   ],
   "source": [
    "nc"
   ]
  },
  {
   "cell_type": "code",
   "execution_count": 30,
   "id": "6c794add",
   "metadata": {},
   "outputs": [
    {
     "ename": "TypeError",
     "evalue": "sequence item 0: expected str instance, numpy.bytes_ found",
     "output_type": "error",
     "traceback": [
      "\u001b[0;31m---------------------------------------------------------------------------\u001b[0m",
      "\u001b[0;31mTypeError\u001b[0m                                 Traceback (most recent call last)",
      "Input \u001b[0;32mIn [30]\u001b[0m, in \u001b[0;36m<cell line: 8>\u001b[0;34m()\u001b[0m\n\u001b[1;32m      6\u001b[0m \u001b[38;5;66;03m# Create variables for Buoy Name and Month Name, to use in plot title\u001b[39;00m\n\u001b[1;32m      7\u001b[0m buoyname \u001b[38;5;241m=\u001b[39m nc\u001b[38;5;241m.\u001b[39mvariables[\u001b[38;5;124m'\u001b[39m\u001b[38;5;124mmetaStationName\u001b[39m\u001b[38;5;124m'\u001b[39m][:]\n\u001b[0;32m----> 8\u001b[0m buoytitle \u001b[38;5;241m=\u001b[39m \u001b[38;5;124;43m\"\u001b[39;49m\u001b[38;5;124;43m \u001b[39;49m\u001b[38;5;124;43m\"\u001b[39;49m\u001b[38;5;241;43m.\u001b[39;49m\u001b[43mjoin\u001b[49m\u001b[43m(\u001b[49m\u001b[43mbuoyname\u001b[49m\u001b[43m[\u001b[49m\u001b[43m:\u001b[49m\u001b[38;5;241;43m-\u001b[39;49m\u001b[38;5;241;43m40\u001b[39;49m\u001b[43m]\u001b[49m\u001b[43m)\u001b[49m\n\u001b[1;32m     10\u001b[0m month_name \u001b[38;5;241m=\u001b[39m calendar\u001b[38;5;241m.\u001b[39mmonth_name[\u001b[38;5;28mint\u001b[39m(startdate[\u001b[38;5;241m0\u001b[39m:\u001b[38;5;241m2\u001b[39m])]\n\u001b[1;32m     11\u001b[0m year_num \u001b[38;5;241m=\u001b[39m (startdate[\u001b[38;5;241m6\u001b[39m:\u001b[38;5;241m10\u001b[39m])\n",
      "\u001b[0;31mTypeError\u001b[0m: sequence item 0: expected str instance, numpy.bytes_ found"
     ]
    }
   ],
   "source": [
    "ncTime = nc.variables['sstTime'][:]\n",
    "timeall = [datetime.datetime.fromtimestamp(t) for t in ncTime] # Convert ncTime variable to datetime stamps\n",
    "sst = nc.variables['sstSeaSurfaceTemperature'][:] # Make a numpy array of SST variable\n",
    "\n",
    "\n",
    "# Create variables for Buoy Name and Month Name, to use in plot title\n",
    "buoyname = nc.variables['metaStationName'][:]\n",
    "buoytitle = \" \".join(buoyname[:-40])\n",
    "\n",
    "month_name = calendar.month_name[int(startdate[0:2])]\n",
    "year_num = (startdate[6:10])"
   ]
  },
  {
   "cell_type": "code",
   "execution_count": 17,
   "id": "b2b8207c",
   "metadata": {},
   "outputs": [],
   "source": [
    "# Find nearest value in numpy array\n",
    "def find_nearest(array,value):\n",
    "    idx = (np.abs(array-value)).argmin()\n",
    "    return array[idx]"
   ]
  },
  {
   "cell_type": "code",
   "execution_count": 18,
   "id": "a0c0c66f",
   "metadata": {},
   "outputs": [],
   "source": [
    "def getUnixTimestamp(humanTime,dateFormat):\n",
    "    unixTimestamp = int(time.mktime(datetime.datetime.strptime(humanTime, dateFormat).timetuple()))\n",
    "    return unixTimestamp"
   ]
  },
  {
   "cell_type": "code",
   "execution_count": null,
   "id": "b697e7d4",
   "metadata": {},
   "outputs": [],
   "source": [
    "unixstart = getUnixTimestamp(startdate,\"%m/%d/%Y\") \n",
    "neareststart = find_nearest(ncTime, unixstart)  # Find the closest unix timestamp\n",
    "nearIndex = numpy.where(ncTime==neareststart)[0][0]  # Grab the index number of found date\n",
    "\n",
    "unixend = getUnixTimestamp(enddate,\"%m/%d/%Y\")\n",
    "future = find_nearest(ncTime, unixend)  # Find the closest unix timestamp\n",
    "futureIndex = numpy.where(ncTime==future)[0][0]  # Grab the index number of found date"
   ]
  },
  {
   "cell_type": "code",
   "execution_count": null,
   "id": "bb5fbb0b",
   "metadata": {},
   "outputs": [],
   "source": [
    "# Create figure and specify figure size\n",
    "fig = plt.figure(figsize=(15,10))\n",
    "\n",
    "psst = fig.add_subplot(111) \n",
    "psst.plot(timeall[nearIndex:futureIndex],sst[nearIndex:futureIndex],'b')\n",
    "\n",
    "# Set Titles\n",
    "plt.suptitle(buoytitle, fontsize=30, y=0.99)\n",
    "title(month_name + \" \" + year_num, fontsize=20, y=1)\n",
    "\n",
    "# Set tick parameters\n",
    "psst.tick_params(axis='y', which='major', labelsize=12, right='off')\n",
    "psst.tick_params(axis='x', which='major', labelsize=12, top='off')\n",
    "\n",
    "# Set x-axis tick interval to every 5 days\n",
    "days = DayLocator(interval=5) \n",
    "daysFmt = DateFormatter('%d')\n",
    "plt.gca().xaxis.set_major_locator(days)\n",
    "plt.gca().xaxis.set_major_formatter(daysFmt)\n",
    "\n",
    "\n",
    "# Make a second y-axis, to show values in both Degrees C and Degrees F\n",
    "psst2 = psst.twinx()\n",
    "\n",
    "# Set y-axis limits for each plot\n",
    "psst.set_ylim(5,25)\n",
    "psst2.set_ylim((5*1.8+32),(25*1.8+32))\n",
    "\n",
    "# Label each y-axis\n",
    "psst.set_ylabel('SEA TEMPERATURE (Deg C)', fontsize=18)\n",
    "psst2.set_ylabel('SEA TEMPERATURE (Deg F)', fontsize=18)\n",
    "\n",
    "# Label x-axis\n",
    "psst.set_xlabel('Day', fontsize=18)\n",
    "\n",
    "\n",
    "# Plot dashed gridlines\n",
    "psst.grid(b=True, which='major', color='b', linestyle='--')"
   ]
  }
 ],
 "metadata": {
  "kernelspec": {
   "display_name": "Python 3 (ipykernel)",
   "language": "python",
   "name": "python3"
  },
  "language_info": {
   "codemirror_mode": {
    "name": "ipython",
    "version": 3
   },
   "file_extension": ".py",
   "mimetype": "text/x-python",
   "name": "python",
   "nbconvert_exporter": "python",
   "pygments_lexer": "ipython3",
   "version": "3.9.12"
  }
 },
 "nbformat": 4,
 "nbformat_minor": 5
}
