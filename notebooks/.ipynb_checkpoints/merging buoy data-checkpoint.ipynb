{
 "cells": [
  {
   "cell_type": "code",
   "execution_count": 403,
   "id": "12d43c94",
   "metadata": {},
   "outputs": [],
   "source": [
    "import pandas as pd\n",
    "import numpy as np\n",
    "import os\n",
    "from glob import glob\n",
    "import sys\n",
    "import warnings\n",
    "from time import time\n"
   ]
  },
  {
   "cell_type": "markdown",
   "id": "8bfe9757",
   "metadata": {},
   "source": [
    "### 46225 Torrey Pines"
   ]
  },
  {
   "cell_type": "code",
   "execution_count": 622,
   "id": "fb3051d8",
   "metadata": {},
   "outputs": [
    {
     "name": "stdout",
     "output_type": "stream",
     "text": [
      "/Users/karatechop\n"
     ]
    }
   ],
   "source": [
    "cd"
   ]
  },
  {
   "cell_type": "code",
   "execution_count": 623,
   "id": "658bebaa",
   "metadata": {},
   "outputs": [
    {
     "name": "stdout",
     "output_type": "stream",
     "text": [
      "/Users/karatechop/Library/CloudStorage/GoogleDrive-kc1558628@berkeley.edu/My Drive/ENERES 131 FINAL PROJECT (1)/data/buoy/buoy Station 46225 - Torrey Pines Outer, CA (100)\n"
     ]
    }
   ],
   "source": [
    "cd /Users/karatechop/Library/CloudStorage/GoogleDrive-kc1558628@berkeley.edu/My Drive/ENERES 131 FINAL PROJECT (1)/data/buoy/buoy Station 46225 - Torrey Pines Outer, CA (100)"
   ]
  },
  {
   "cell_type": "code",
   "execution_count": 624,
   "id": "1d81f6c7",
   "metadata": {},
   "outputs": [
    {
     "name": "stdout",
     "output_type": "stream",
     "text": [
      "Index(['year', 'month', 'day', 'hour', 'minute', 'WSPD', 'air_temp',\n",
      "       'datetime', 'buoy'],\n",
      "      dtype='object')\n"
     ]
    }
   ],
   "source": [
    "print(main.columns)"
   ]
  },
  {
   "cell_type": "code",
   "execution_count": 625,
   "id": "1177805f",
   "metadata": {},
   "outputs": [],
   "source": [
    "def fix_wspd(df): \n",
    "    if 'WSPD' in df.columns:\n",
    "        return \n",
    "    else: \n",
    "        for i in df.columns:\n",
    "            if 'WSPD' in i and i != 'WSPD': \n",
    "                print(i)\n",
    "                correct_wspd = int(input(\"Which index is WSPD at?\"))\n",
    "                df.rename(columns={i:'WSPD'},inplace=True)\n",
    "                df['WSPD'] = [(i.split()[correct_wspd]) for i in df['WSPD']]\n",
    "\n",
    "# df_test = pd.read_fwf('ljpc1h2013.txt')\n",
    "# fix_wspd(df_test)"
   ]
  },
  {
   "cell_type": "markdown",
   "id": "4cb8523a",
   "metadata": {},
   "source": [
    "It appears we're lacking air temperature data for every year. "
   ]
  },
  {
   "cell_type": "code",
   "execution_count": 626,
   "id": "ec5cbf7c",
   "metadata": {
    "collapsed": true
   },
   "outputs": [
    {
     "name": "stdout",
     "output_type": "stream",
     "text": [
      "0 \n",
      "\n",
      "0 \n",
      "\n",
      "0 \n",
      "\n",
      "0 \n",
      "\n",
      "0 \n",
      "\n",
      "0 \n",
      "\n",
      "0 \n",
      "\n",
      "0 \n",
      "\n",
      "0 \n",
      "\n",
      "0 \n",
      "\n",
      "0 \n",
      "\n"
     ]
    }
   ],
   "source": [
    "default = ['#YY', 'MM', 'DD', 'hh', 'mm']\n",
    "\n",
    "for i in range(2009,2020):\n",
    "    try:\n",
    "        df_test = pd.read_fwf(f'46225h{i}.txt')\n",
    "    #     (df_test.columns[:5] == default).all()\n",
    "        print(df_test.loc[1:,'ATMP'].isna().sum(),'\\n')\n",
    "    except:\n",
    "        pass"
   ]
  },
  {
   "cell_type": "code",
   "execution_count": 627,
   "id": "15f6bc3b",
   "metadata": {
    "collapsed": true
   },
   "outputs": [
    {
     "name": "stdout",
     "output_type": "stream",
     "text": [
      "46225h2015.txt \n",
      " Index(['#YY', 'MM', 'DD', 'hh', 'mm', 'WDIR WSPD GST', 'WVHT', 'DPD', 'APD',\n",
      "       'MWD   PRES', 'ATMP', 'WTMP', 'DEWP', 'VIS', 'TIDE'],\n",
      "      dtype='object')\n",
      "WDIR WSPD GST\n",
      "Which index is WSPD at?1\n",
      "46225h2014.txt \n",
      " Index(['#YY', 'MM', 'DD', 'hh', 'mm', 'WDIR WSPD GST', 'WVHT', 'DPD', 'APD',\n",
      "       'MWD   PRES', 'ATMP', 'WTMP', 'DEWP', 'VIS', 'TIDE'],\n",
      "      dtype='object')\n",
      "WDIR WSPD GST\n",
      "Which index is WSPD at?1\n",
      "46225h2016.txt \n",
      " Index(['#YY', 'MM', 'DD', 'hh', 'mm', 'WDIR WSPD GST', 'WVHT', 'DPD', 'APD',\n",
      "       'MWD   PRES', 'ATMP', 'WTMP', 'DEWP', 'VIS', 'TIDE'],\n",
      "      dtype='object')\n",
      "WDIR WSPD GST\n",
      "Which index is WSPD at?1\n",
      "46225h2017.txt \n",
      " Index(['#YY', 'MM', 'DD', 'hh', 'mm', 'WDIR WSPD GST', 'WVHT', 'DPD', 'APD',\n",
      "       'MWD   PRES', 'ATMP', 'WTMP', 'DEWP', 'VIS', 'TIDE'],\n",
      "      dtype='object')\n",
      "WDIR WSPD GST\n",
      "Which index is WSPD at?1\n",
      "46225h2013.txt \n",
      " Index(['#YY', 'MM', 'DD', 'hh', 'mm', 'WDIR WSPD GST', 'WVHT', 'DPD', 'APD',\n",
      "       'MWD   PRES', 'ATMP', 'WTMP', 'DEWP', 'VIS', 'TIDE'],\n",
      "      dtype='object')\n",
      "WDIR WSPD GST\n",
      "Which index is WSPD at?1\n",
      "46225h2012.txt \n",
      " Index(['#YY', 'MM', 'DD', 'hh', 'mm', 'WDIR WSPD GST', 'WVHT', 'DPD', 'APD',\n",
      "       'MWD   PRES', 'ATMP', 'WTMP', 'DEWP', 'VIS', 'TIDE'],\n",
      "      dtype='object')\n",
      "WDIR WSPD GST\n",
      "Which index is WSPD at?1\n",
      "46225h2010.txt \n",
      " Index(['#YY', 'MM', 'DD', 'hh', 'mm', 'WDIR WSPD GST', 'WVHT', 'DPD', 'APD',\n",
      "       'MWD', 'PRES', 'ATMP', 'WTMP', 'DEWP', 'VIS', 'TIDE'],\n",
      "      dtype='object')\n",
      "WDIR WSPD GST\n",
      "Which index is WSPD at?1\n",
      "46225h2011.txt \n",
      " Index(['#YY', 'MM', 'DD', 'hh', 'mm', 'WDIR WSPD GST', 'WVHT', 'DPD', 'APD',\n",
      "       'MWD   PRES', 'ATMP', 'WTMP', 'DEWP', 'VIS', 'TIDE'],\n",
      "      dtype='object')\n",
      "WDIR WSPD GST\n",
      "Which index is WSPD at?1\n",
      "46225h2008.txt \n",
      " Index(['#YY', 'MM', 'DD', 'hh', 'mm', 'WDIR WSPD GST', 'WVHT', 'DPD', 'APD',\n",
      "       'MWD', 'PRES', 'ATMP', 'WTMP', 'DEWP', 'VIS', 'TIDE'],\n",
      "      dtype='object')\n",
      "WDIR WSPD GST\n",
      "Which index is WSPD at?1\n",
      "46225h2020.txt \n",
      " Index(['#YY', 'MM', 'DD', 'hh', 'mm', 'WDIR WSPD GST', 'WVHT', 'DPD', 'APD',\n",
      "       'MWD   PRES', 'ATMP', 'WTMP', 'DEWP', 'VIS', 'TIDE'],\n",
      "      dtype='object')\n",
      "WDIR WSPD GST\n",
      "Which index is WSPD at?1\n",
      "46225h2021.txt \n",
      " Index(['#YY', 'MM', 'DD', 'hh', 'mm', 'WDIR WSPD GST', 'WVHT', 'DPD', 'APD',\n",
      "       'MWD   PRES', 'ATMP', 'WTMP', 'DEWP', 'VIS', 'TIDE'],\n",
      "      dtype='object')\n",
      "WDIR WSPD GST\n",
      "Which index is WSPD at?1\n",
      "46225h2009.txt \n",
      " Index(['#YY', 'MM', 'DD', 'hh', 'mm', 'WDIR WSPD GST', 'WVHT', 'DPD', 'APD',\n",
      "       'MWD   PRES', 'ATMP', 'WTMP', 'DEWP', 'VIS', 'TIDE'],\n",
      "      dtype='object')\n",
      "WDIR WSPD GST\n",
      "Which index is WSPD at?1\n",
      "46225h2019.txt \n",
      " Index(['#YY', 'MM', 'DD', 'hh', 'mm', 'WDIR WSPD GST', 'WVHT', 'DPD', 'APD',\n",
      "       'MWD   PRES', 'ATMP', 'WTMP', 'DEWP', 'VIS', 'TIDE'],\n",
      "      dtype='object')\n",
      "WDIR WSPD GST\n",
      "Which index is WSPD at?1\n",
      "46225h2018.txt \n",
      " Index(['#YY', 'MM', 'DD', 'hh', 'mm', 'WDIR WSPD GST', 'WVHT', 'DPD', 'APD',\n",
      "       'MWD   PRES', 'ATMP', 'WTMP', 'DEWP', 'VIS', 'TIDE'],\n",
      "      dtype='object')\n",
      "WDIR WSPD GST\n",
      "Which index is WSPD at?1\n"
     ]
    }
   ],
   "source": [
    "PATH = os.getcwd()\n",
    "EXT = \"*.txt\"\n",
    "default = ['#YY', 'MM', 'DD', 'hh', 'mm']\n",
    "count = 0\n",
    "\n",
    "\n",
    "for path, subdir, files in os.walk(PATH):\n",
    "    for file in glob(os.path.join(path, EXT)):\n",
    "        if 'jordan' not in file.lower() and 'all_buoy_years' not in file.lower() and 'copy' not in file.lower() and '.txt' in file.lower():\n",
    "            if count == 0:\n",
    "                main = pd.read_fwf(file)\n",
    "                \n",
    "                print(file[-14:],'\\n',main.columns)\n",
    "                \n",
    "                if (main.columns[:5]==default).all():\n",
    "                    main[['year', 'month', 'day', 'hour', 'minute']] = main[['#YY', 'MM', 'DD', 'hh', 'mm']]\n",
    "                    if 'ATMP' in main.columns:\n",
    "                        main['air_temp'] = main['ATMP']\n",
    "                    else:\n",
    "                        main['air_temp'] = main[input(\"Select air_temp col: \\n\\n\")]\n",
    "                else:\n",
    "                    main['year'] = main[input(\"Select year col: \")]\n",
    "                    main['month'] = main[input(\"Select month col: \")]\n",
    "                    main['day'] = main[input(\"Select day col: \")]\n",
    "                    main['hour'] = main[input(\"Select hour col: \")]\n",
    "                    main['minute'] = main[input(\"Select minute col: \")]\n",
    "                    main['air_temp'] = main[input(\"Select air_temp col: \\n\\n\")]\n",
    "                \n",
    "                fix_wspd(main)\n",
    "\n",
    "\n",
    "                main = main[['year','month','day','hour','minute','WSPD','air_temp']].iloc[1:,:].astype(float)\n",
    "                count+=1\n",
    "                \n",
    "                \n",
    "                \n",
    "            else: \n",
    "                df = pd.read_fwf(file)\n",
    "                \n",
    "                print(file[-14:],'\\n',df.columns)\n",
    "                \n",
    "                if (df.columns[:5]==default).all():\n",
    "                    df[['year', 'month', 'day', 'hour', 'minute']] = df[['#YY', 'MM', 'DD', 'hh', 'mm']]\n",
    "                    if 'ATMP' in df.columns:\n",
    "                        df['air_temp'] = df['ATMP']\n",
    "                    else:\n",
    "                        df['air_temp'] = df[input(\"Select air_temp col: \\n\\n\")]\n",
    "                else:\n",
    "                    df['year'] = df[input(\"Select year col: \")]\n",
    "                    df['month'] = df[input(\"Select month col: \")]\n",
    "                    df['day'] = df[input(\"Select day col: \")]\n",
    "                    df['hour'] = df[input(\"Select hour col: \")]\n",
    "                    df['minute'] = df[input(\"Select minute col: \")]\n",
    "                    df['air_temp'] = df[input(\"Select air_temp col: \\n\\n\")]\n",
    "\n",
    "                fix_wspd(df)\n",
    "\n",
    "\n",
    "                df = df[['year','month','day','hour','minute','WSPD','air_temp']].iloc[1:,:].astype(float)\n",
    "                main = pd.concat([main,df]) \n",
    "                count+=1"
   ]
  },
  {
   "cell_type": "code",
   "execution_count": 628,
   "id": "796fec9b",
   "metadata": {},
   "outputs": [],
   "source": [
    "main = main.replace(999.0,None)\n",
    "main = main.replace(99.0,None)\n",
    "main['datetime'] = pd.to_datetime(main[['year','month','day','hour']])\n",
    "main['buoy'] = '46225 OUTER'\n",
    "main\n",
    "main.to_csv('all_buoy_years_46225.csv',index=False)"
   ]
  },
  {
   "cell_type": "code",
   "execution_count": 629,
   "id": "9927ba93",
   "metadata": {},
   "outputs": [
    {
     "data": {
      "text/plain": [
       "year             0\n",
       "month            0\n",
       "day              0\n",
       "hour             0\n",
       "minute           0\n",
       "WSPD        238373\n",
       "air_temp    238373\n",
       "datetime         0\n",
       "buoy             0\n",
       "dtype: int64"
      ]
     },
     "execution_count": 629,
     "metadata": {},
     "output_type": "execute_result"
    }
   ],
   "source": [
    "main.isna().sum()"
   ]
  },
  {
   "cell_type": "markdown",
   "id": "594154d4",
   "metadata": {},
   "source": [
    "### 073 La Jolla"
   ]
  },
  {
   "cell_type": "code",
   "execution_count": 605,
   "id": "c33ba9c5",
   "metadata": {},
   "outputs": [
    {
     "name": "stdout",
     "output_type": "stream",
     "text": [
      "/Users/karatechop\n"
     ]
    }
   ],
   "source": [
    "cd"
   ]
  },
  {
   "cell_type": "code",
   "execution_count": 606,
   "id": "d9924f60",
   "metadata": {
    "scrolled": true
   },
   "outputs": [
    {
     "name": "stdout",
     "output_type": "stream",
     "text": [
      "/Users/karatechop/Library/CloudStorage/GoogleDrive-kc1558628@berkeley.edu/My Drive/ENERES 131 FINAL PROJECT (1)/data/buoy/buoy Station LJPC1 - La Jolla, CA (073)\n"
     ]
    }
   ],
   "source": [
    "cd /Users/karatechop/Library/CloudStorage/GoogleDrive-kc1558628@berkeley.edu/My Drive/ENERES 131 FINAL PROJECT (1)/data/buoy/buoy Station LJPC1 - La Jolla, CA (073)/"
   ]
  },
  {
   "cell_type": "code",
   "execution_count": 607,
   "id": "d76b625b",
   "metadata": {
    "collapsed": true
   },
   "outputs": [
    {
     "name": "stdout",
     "output_type": "stream",
     "text": [
      "all_buoy_years_073.csv          ljpc1h2013.txt\r\n",
      "all_buoy_years_073_lajolla.csv  ljpc1h2013.txt.gz\r\n",
      "all_buoy_years_46225.csv        ljpc1h2014.txt\r\n",
      "ljpc1h2005.txt                  ljpc1h2014.txt.gz\r\n",
      "ljpc1h2005.txt.gz               ljpc1h2015.txt\r\n",
      "ljpc1h2006.txt                  ljpc1h2015.txt.gz\r\n",
      "ljpc1h2006.txt.gz               ljpc1h2016.txt\r\n",
      "ljpc1h2007.txt                  ljpc1h2016.txt.gz\r\n",
      "ljpc1h2007.txt.gz               ljpc1h2017.txt\r\n",
      "ljpc1h2008.txt                  ljpc1h2017.txt.gz\r\n",
      "ljpc1h2008.txt.gz               ljpc1h2018.txt\r\n",
      "ljpc1h2009.txt                  ljpc1h2018.txt.gz\r\n",
      "ljpc1h2009.txt.gz               ljpc1h2019.txt\r\n",
      "ljpc1h2010.txt                  ljpc1h2019.txt.gz\r\n",
      "ljpc1h2010.txt.gz               ljpc1h2020.txt\r\n",
      "ljpc1h2011.txt                  ljpc1h2020.txt.gz\r\n",
      "ljpc1h2011.txt.gz               ljpc1h2021.txt\r\n",
      "ljpc1h2012.txt                  ljpc1h2021.txt.gz\r\n",
      "ljpc1h2012.txt.gz\r\n"
     ]
    }
   ],
   "source": [
    "ls"
   ]
  },
  {
   "cell_type": "code",
   "execution_count": 609,
   "id": "15ecaa79",
   "metadata": {
    "collapsed": true
   },
   "outputs": [
    {
     "name": "stdout",
     "output_type": "stream",
     "text": [
      "ljpc1h2018.txt \n",
      " Index(['#YY', 'MM', 'DD', 'hh', 'mm', 'WDIR', 'WSPD GST', 'WVHT', 'DPD', 'APD',\n",
      "       'MWD   PRES', 'ATMP', 'WTMP', 'DEWP', 'VIS', 'TIDE'],\n",
      "      dtype='object')\n",
      "WSPD GST\n",
      "Which index is WSPD at?0\n",
      "ljpc1h2019.txt \n",
      " Index(['#YY', 'MM', 'DD', 'hh', 'mm', 'WDIR', 'WSPD GST', 'WVHT', 'DPD', 'APD',\n",
      "       'MWD   PRES', 'ATMP', 'WTMP', 'DEWP', 'VIS', 'TIDE'],\n",
      "      dtype='object')\n",
      "WSPD GST\n",
      "Which index is WSPD at?0\n",
      "ljpc1h2009.txt \n",
      " Index(['#YY', 'MM', 'DD', 'hh', 'mm', 'WDIR', 'WSPD', 'GST', 'WVHT', 'DPD',\n",
      "       'APD', 'MWD   PRES', 'ATMP', 'WTMP', 'DEWP', 'VIS', 'TIDE'],\n",
      "      dtype='object')\n",
      "ljpc1h2021.txt \n",
      " Index(['#YY', 'MM', 'DD', 'hh', 'mm', 'WDIR', 'WSPD', 'GST', 'WVHT', 'DPD',\n",
      "       'APD', 'MWD   PRES', 'ATMP', 'WTMP', 'DEWP', 'VIS', 'TIDE'],\n",
      "      dtype='object')\n",
      "ljpc1h2020.txt \n",
      " Index(['#YY', 'MM', 'DD', 'hh', 'mm', 'WDIR', 'WSPD', 'GST', 'WVHT', 'DPD',\n",
      "       'APD', 'MWD   PRES', 'ATMP', 'WTMP', 'DEWP', 'VIS', 'TIDE'],\n",
      "      dtype='object')\n",
      "ljpc1h2008.txt \n",
      " Index(['#YY', 'MM', 'DD', 'hh', 'mm', 'WDIR', 'WSPD', 'GST', 'WVHT', 'DPD',\n",
      "       'APD', 'MWD', 'PRES', 'ATMP', 'WTMP', 'DEWP', 'VIS', 'TIDE'],\n",
      "      dtype='object')\n",
      "ljpc1h2012.txt \n",
      " Index(['#YY', 'MM', 'DD', 'hh', 'mm', 'WDIR WSPD GST', 'WVHT', 'DPD', 'APD',\n",
      "       'MWD   PRES', 'ATMP', 'WTMP', 'DEWP', 'VIS', 'TIDE'],\n",
      "      dtype='object')\n",
      "WDIR WSPD GST\n",
      "Which index is WSPD at?1\n",
      "ljpc1h2006.txt \n",
      " Index(['YYYY', 'MM', 'DD', 'hh', 'mm', 'WD', 'WSPD GST', 'WVHT', 'DPD', 'APD',\n",
      "       'MWD', 'BAR', 'ATMP', 'WTMP', 'DEWP', 'VIS', 'TIDE'],\n",
      "      dtype='object')\n",
      "Select year col: YYYY\n",
      "Select month col: MM\n",
      "Select day col: DD\n",
      "Select hour col: hh\n",
      "Select minute col: mm\n",
      "Select air_temp col: \n",
      "\n",
      "ATMP\n",
      "WSPD GST\n",
      "Which index is WSPD at?0\n",
      "ljpc1h2007.txt \n",
      " Index(['#YY', 'MM', 'DD', 'hh', 'mm', 'WDIR', 'WSPD', 'GST', 'WVHT', 'DPD',\n",
      "       'APD', 'MWD   PRES', 'ATMP', 'WTMP', 'DEWP', 'VIS', 'TIDE'],\n",
      "      dtype='object')\n",
      "ljpc1h2013.txt \n",
      " Index(['#YY', 'MM', 'DD', 'hh', 'mm', 'WDIR WSPD GST', 'WVHT', 'DPD', 'APD',\n",
      "       'MWD   PRES', 'ATMP', 'WTMP', 'DEWP', 'VIS', 'TIDE'],\n",
      "      dtype='object')\n",
      "WDIR WSPD GST\n",
      "Which index is WSPD at?1\n",
      "ljpc1h2005.txt \n",
      " Index(['YYYY', 'MM', 'DD', 'hh', 'mm', 'WD', 'WSPD GST', 'WVHT', 'DPD', 'APD',\n",
      "       'MWD', 'BAR', 'ATMP', 'WTMP', 'DEWP', 'VIS', 'TIDE'],\n",
      "      dtype='object')\n",
      "Select year col: YYYY\n",
      "Select month col: MM\n",
      "Select day col: DD\n",
      "Select hour col: hh\n",
      "Select minute col: mm\n",
      "Select air_temp col: \n",
      "\n",
      "ATMP\n",
      "WSPD GST\n",
      "Which index is WSPD at?0\n",
      "ljpc1h2011.txt \n",
      " Index(['#YY', 'MM', 'DD', 'hh', 'mm', 'WDIR WSPD GST', 'WVHT', 'DPD', 'APD',\n",
      "       'MWD   PRES', 'ATMP', 'WTMP', 'DEWP', 'VIS', 'TIDE'],\n",
      "      dtype='object')\n",
      "WDIR WSPD GST\n",
      "Which index is WSPD at?1\n",
      "ljpc1h2010.txt \n",
      " Index(['#YY', 'MM', 'DD', 'hh', 'mm', 'WDIR', 'WSPD GST', 'WVHT', 'DPD', 'APD',\n",
      "       'MWD', 'PRES', 'ATMP', 'WTMP', 'DEWP', 'VIS', 'TIDE'],\n",
      "      dtype='object')\n",
      "WSPD GST\n",
      "Which index is WSPD at?0\n",
      "ljpc1h2014.txt \n",
      " Index(['#YY', 'MM', 'DD', 'hh', 'mm', 'WDIR', 'WSPD', 'GST', 'WVHT', 'DPD',\n",
      "       'APD', 'MWD   PRES', 'ATMP', 'WTMP', 'DEWP', 'VIS', 'TIDE'],\n",
      "      dtype='object')\n",
      "ljpc1h2015.txt \n",
      " Index(['#YY', 'MM', 'DD', 'hh', 'mm', 'WDIR', 'WSPD GST', 'WVHT', 'DPD', 'APD',\n",
      "       'MWD   PRES', 'ATMP', 'WTMP', 'DEWP', 'VIS', 'TIDE'],\n",
      "      dtype='object')\n",
      "WSPD GST\n",
      "Which index is WSPD at?0\n",
      "ljpc1h2017.txt \n",
      " Index(['#YY', 'MM', 'DD', 'hh', 'mm', 'WDIR WSPD GST', 'WVHT', 'DPD', 'APD',\n",
      "       'MWD   PRES', 'ATMP', 'WTMP', 'DEWP', 'VIS', 'TIDE'],\n",
      "      dtype='object')\n",
      "WDIR WSPD GST\n",
      "Which index is WSPD at?1\n",
      "ljpc1h2016.txt \n",
      " Index(['#YY', 'MM', 'DD', 'hh', 'mm', 'WDIR WSPD GST', 'WVHT', 'DPD', 'APD',\n",
      "       'MWD   PRES', 'ATMP', 'WTMP', 'DEWP', 'VIS', 'TIDE'],\n",
      "      dtype='object')\n",
      "WDIR WSPD GST\n",
      "Which index is WSPD at?1\n"
     ]
    }
   ],
   "source": [
    "PATH = os.getcwd()\n",
    "EXT = \"*.txt\"\n",
    "default = ['#YY', 'MM', 'DD', 'hh', 'mm']\n",
    "count = 0\n",
    "\n",
    "\n",
    "for path, subdir, files in os.walk(PATH):\n",
    "    for file in glob(os.path.join(path, EXT)):\n",
    "        if 'jordan' not in file.lower() and 'all_buoy_years' not in file.lower() and 'copy' not in file.lower() and '.txt' in file.lower():\n",
    "            if count == 0:\n",
    "                main = pd.read_fwf(file)\n",
    "                \n",
    "                print(file[-14:],'\\n',main.columns)\n",
    "                \n",
    "                if (main.columns[:5]==default).all():\n",
    "                    main[['year', 'month', 'day', 'hour', 'minute']] = main[['#YY', 'MM', 'DD', 'hh', 'mm']]\n",
    "                    if 'ATMP' in main.columns:\n",
    "                        main['air_temp'] = main['ATMP']\n",
    "                    else:\n",
    "                        main['air_temp'] = main[input(\"Select air_temp col: \\n\\n\")]\n",
    "                else:\n",
    "                    main['year'] = main[input(\"Select year col: \")]\n",
    "                    main['month'] = main[input(\"Select month col: \")]\n",
    "                    main['day'] = main[input(\"Select day col: \")]\n",
    "                    main['hour'] = main[input(\"Select hour col: \")]\n",
    "                    main['minute'] = main[input(\"Select minute col: \")]\n",
    "                    main['air_temp'] = main[input(\"Select air_temp col: \\n\\n\")]\n",
    "                \n",
    "                fix_wspd(main)\n",
    "\n",
    "\n",
    "                main = main[['year','month','day','hour','minute','WSPD','air_temp']].iloc[1:,:].astype(float)\n",
    "                count+=1\n",
    "                \n",
    "                \n",
    "                \n",
    "            else: \n",
    "                df = pd.read_fwf(file)\n",
    "                \n",
    "                print(file[-14:],'\\n',df.columns)\n",
    "                \n",
    "                if (df.columns[:5]==default).all():\n",
    "                    df[['year', 'month', 'day', 'hour', 'minute']] = df[['#YY', 'MM', 'DD', 'hh', 'mm']]\n",
    "                    if 'ATMP' in df.columns:\n",
    "                        df['air_temp'] = df['ATMP']\n",
    "                    else:\n",
    "                        df['air_temp'] = df[input(\"Select air_temp col: \\n\\n\")]\n",
    "                else:\n",
    "                    df['year'] = df[input(\"Select year col: \")]\n",
    "                    df['month'] = df[input(\"Select month col: \")]\n",
    "                    df['day'] = df[input(\"Select day col: \")]\n",
    "                    df['hour'] = df[input(\"Select hour col: \")]\n",
    "                    df['minute'] = df[input(\"Select minute col: \")]\n",
    "                    df['air_temp'] = df[input(\"Select air_temp col: \\n\\n\")]\n",
    "\n",
    "                fix_wspd(df)\n",
    "\n",
    "\n",
    "                df = df[['year','month','day','hour','minute','WSPD','air_temp']].iloc[1:,:].astype(float)\n",
    "                main = pd.concat([main,df]) \n",
    "                count+=1"
   ]
  },
  {
   "cell_type": "code",
   "execution_count": 610,
   "id": "23183224",
   "metadata": {},
   "outputs": [],
   "source": [
    "main = main.replace(999.0,None)\n",
    "main = main.replace(99.0,None)\n",
    "main['datetime'] = pd.to_datetime(main[['year','month','day','hour']])\n",
    "main['buoy'] = '073 INNER'\n",
    "main\n",
    "main.to_csv('all_buoy_years_073.csv',index=False)"
   ]
  },
  {
   "cell_type": "code",
   "execution_count": 611,
   "id": "ebc2b47e",
   "metadata": {
    "scrolled": true
   },
   "outputs": [
    {
     "data": {
      "text/plain": [
       "year             0\n",
       "month            0\n",
       "day              0\n",
       "hour             0\n",
       "minute           0\n",
       "WSPD         23701\n",
       "air_temp    102325\n",
       "datetime         0\n",
       "buoy             0\n",
       "dtype: int64"
      ]
     },
     "execution_count": 611,
     "metadata": {},
     "output_type": "execute_result"
    }
   ],
   "source": [
    "main.isna().sum()"
   ]
  },
  {
   "cell_type": "code",
   "execution_count": 497,
   "id": "7a226d0f",
   "metadata": {},
   "outputs": [
    {
     "data": {
      "text/plain": [
       "0.7905207045735476"
      ]
     },
     "execution_count": 497,
     "metadata": {},
     "output_type": "execute_result"
    }
   ],
   "source": [
    "main['air_temp'].isna().sum()/main['air_temp'].shape[0]"
   ]
  },
  {
   "cell_type": "markdown",
   "id": "ae7b664e",
   "metadata": {},
   "source": [
    "## Joining the Two Buoys"
   ]
  },
  {
   "cell_type": "code",
   "execution_count": 615,
   "id": "9fd53a92",
   "metadata": {},
   "outputs": [
    {
     "name": "stdout",
     "output_type": "stream",
     "text": [
      "(129440, 3) \n",
      "\n",
      " datetime             0\n",
      "WSPD_073         23701\n",
      "air_temp_073    102325\n",
      "dtype: int64\n"
     ]
    }
   ],
   "source": [
    "la_jolla_073 = pd.read_csv('all_buoy_years_073.csv')\n",
    "la_jolla_073 = la_jolla_073.rename(columns={'WSPD':'WSPD_073',\n",
    "                                            'air_temp':'air_temp_073'})[['datetime','WSPD_073', 'air_temp_073']]\n",
    "print(la_jolla_073.shape,'\\n\\n',la_jolla_073.isna().sum())"
   ]
  },
  {
   "cell_type": "code",
   "execution_count": 621,
   "id": "4f199c88",
   "metadata": {},
   "outputs": [
    {
     "name": "stdout",
     "output_type": "stream",
     "text": [
      "(238373, 3) \n",
      "\n",
      " datetime               0\n",
      "WSPD_46225        238373\n",
      "air_temp_46225    238373\n",
      "dtype: int64\n"
     ]
    }
   ],
   "source": [
    "torey_46225 = pd.read_csv('all_buoy_years_46225.csv')\n",
    "torey_46225 = torey_46225.rename(columns={'WSPD':'WSPD_46225',\n",
    "                                          'air_temp':'air_temp_46225'})[['datetime','WSPD_46225','air_temp_46225']]\n",
    "print(torey_46225.shape,'\\n\\n',torey_46225.isna().sum())"
   ]
  },
  {
   "cell_type": "code",
   "execution_count": 639,
   "id": "37997dda",
   "metadata": {},
   "outputs": [
    {
     "data": {
      "text/plain": [
       "datetime               0\n",
       "WSPD_46225        238373\n",
       "air_temp_46225    238373\n",
       "dtype: int64"
      ]
     },
     "execution_count": 639,
     "metadata": {},
     "output_type": "execute_result"
    }
   ],
   "source": [
    "torey_46225.isna().sum()\n",
    "# la_jolla_073.isna().sum()"
   ]
  },
  {
   "cell_type": "code",
   "execution_count": 640,
   "id": "58edd1ef",
   "metadata": {},
   "outputs": [
    {
     "data": {
      "text/plain": [
       "'2015-01-01'"
      ]
     },
     "execution_count": 640,
     "metadata": {},
     "output_type": "execute_result"
    }
   ],
   "source": [
    "torey_46225['datetime'][0]"
   ]
  },
  {
   "cell_type": "code",
   "execution_count": 641,
   "id": "b761a373",
   "metadata": {},
   "outputs": [],
   "source": [
    "final = pd.merge(la_jolla_073,torey_46225,on='datetime',how='outer')\n",
    "# final['datetime'] = pd.to_datetime(final['datetime'].dt.strftime('%Y-%M'))\n",
    "final.to_csv('lj_torey_buoys.csv',index=False)"
   ]
  },
  {
   "cell_type": "code",
   "execution_count": null,
   "id": "68ff3ec3",
   "metadata": {},
   "outputs": [],
   "source": []
  }
 ],
 "metadata": {
  "kernelspec": {
   "display_name": "Python 3 (ipykernel)",
   "language": "python",
   "name": "python3"
  },
  "language_info": {
   "codemirror_mode": {
    "name": "ipython",
    "version": 3
   },
   "file_extension": ".py",
   "mimetype": "text/x-python",
   "name": "python",
   "nbconvert_exporter": "python",
   "pygments_lexer": "ipython3",
   "version": "3.9.12"
  }
 },
 "nbformat": 4,
 "nbformat_minor": 5
}
