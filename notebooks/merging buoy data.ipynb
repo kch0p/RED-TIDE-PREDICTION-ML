{
 "cells": [
  {
   "cell_type": "code",
   "execution_count": 403,
   "id": "12d43c94",
   "metadata": {},
   "outputs": [],
   "source": [
    "import pandas as pd\n",
    "import numpy as np\n",
    "import os\n",
    "from glob import glob\n",
    "import sys\n",
    "import warnings\n",
    "from time import time"
   ]
  },
  {
   "cell_type": "markdown",
   "id": "8bfe9757",
   "metadata": {},
   "source": [
    "### 46225 Torrey Pines"
   ]
  },
  {
   "cell_type": "code",
   "execution_count": 622,
   "id": "fb3051d8",
   "metadata": {},
   "outputs": [
    {
     "name": "stdout",
     "output_type": "stream",
     "text": [
      "/Users/karatechop\n"
     ]
    }
   ],
   "source": [
    "cd"
   ]
  },
  {
   "cell_type": "code",
   "execution_count": 623,
   "id": "658bebaa",
   "metadata": {},
   "outputs": [
    {
     "name": "stdout",
     "output_type": "stream",
     "text": [
      "/Users/karatechop/Library/CloudStorage/GoogleDrive-kc1558628@berkeley.edu/My Drive/ENERES 131 FINAL PROJECT (1)/data/buoy/buoy Station 46225 - Torrey Pines Outer, CA (100)\n"
     ]
    }
   ],
   "source": [
    "cd /Users/karatechop/Library/CloudStorage/GoogleDrive-kc1558628@berkeley.edu/My Drive/ENERES 131 FINAL PROJECT (1)/data/buoy/buoy Station 46225 - Torrey Pines Outer, CA (100)"
   ]
  },
  {
   "cell_type": "code",
   "execution_count": 624,
   "id": "1d81f6c7",
   "metadata": {},
   "outputs": [
    {
     "name": "stdout",
     "output_type": "stream",
     "text": [
      "Index(['year', 'month', 'day', 'hour', 'minute', 'WSPD', 'air_temp',\n",
      "       'datetime', 'buoy'],\n",
      "      dtype='object')\n"
     ]
    }
   ],
   "source": [
    "print(main.columns)"
   ]
  },
  {
   "cell_type": "code",
   "execution_count": 625,
   "id": "1177805f",
   "metadata": {},
   "outputs": [],
   "source": [
    "def fix_wspd(df): \n",
    "    if 'WSPD' in df.columns:\n",
    "        return \n",
    "    else: \n",
    "        for i in df.columns:\n",
    "            if 'WSPD' in i and i != 'WSPD': \n",
    "                print(i)\n",
    "                correct_wspd = int(input(\"Which index is WSPD at?\"))\n",
    "                df.rename(columns={i:'WSPD'},inplace=True)\n",
    "                df['WSPD'] = [(i.split()[correct_wspd]) for i in df['WSPD']]\n",
    "\n",
    "# df_test = pd.read_fwf('ljpc1h2013.txt')\n",
    "# fix_wspd(df_test)"
   ]
  },
  {
   "cell_type": "markdown",
   "id": "4cb8523a",
   "metadata": {},
   "source": [
    "It appears we're lacking air temperature data for every year. "
   ]
  },
  {
   "cell_type": "code",
   "execution_count": 626,
   "id": "ec5cbf7c",
   "metadata": {
    "collapsed": true
   },
   "outputs": [
    {
     "name": "stdout",
     "output_type": "stream",
     "text": [
      "0 \n",
      "\n",
      "0 \n",
      "\n",
      "0 \n",
      "\n",
      "0 \n",
      "\n",
      "0 \n",
      "\n",
      "0 \n",
      "\n",
      "0 \n",
      "\n",
      "0 \n",
      "\n",
      "0 \n",
      "\n",
      "0 \n",
      "\n",
      "0 \n",
      "\n"
     ]
    }
   ],
   "source": [
    "default = ['#YY', 'MM', 'DD', 'hh', 'mm']\n",
    "\n",
    "for i in range(2009,2020):\n",
    "    try:\n",
    "        df_test = pd.read_fwf(f'46225h{i}.txt')\n",
    "    #     (df_test.columns[:5] == default).all()\n",
    "        print(df_test.loc[1:,'ATMP'].isna().sum(),'\\n')\n",
    "    except:\n",
    "        pass"
   ]
  },
  {
   "cell_type": "code",
   "execution_count": 627,
   "id": "15f6bc3b",
   "metadata": {
    "collapsed": true
   },
   "outputs": [
    {
     "name": "stdout",
     "output_type": "stream",
     "text": [
      "46225h2015.txt \n",
      " Index(['#YY', 'MM', 'DD', 'hh', 'mm', 'WDIR WSPD GST', 'WVHT', 'DPD', 'APD',\n",
      "       'MWD   PRES', 'ATMP', 'WTMP', 'DEWP', 'VIS', 'TIDE'],\n",
      "      dtype='object')\n",
      "WDIR WSPD GST\n",
      "Which index is WSPD at?1\n",
      "46225h2014.txt \n",
      " Index(['#YY', 'MM', 'DD', 'hh', 'mm', 'WDIR WSPD GST', 'WVHT', 'DPD', 'APD',\n",
      "       'MWD   PRES', 'ATMP', 'WTMP', 'DEWP', 'VIS', 'TIDE'],\n",
      "      dtype='object')\n",
      "WDIR WSPD GST\n",
      "Which index is WSPD at?1\n",
      "46225h2016.txt \n",
      " Index(['#YY', 'MM', 'DD', 'hh', 'mm', 'WDIR WSPD GST', 'WVHT', 'DPD', 'APD',\n",
      "       'MWD   PRES', 'ATMP', 'WTMP', 'DEWP', 'VIS', 'TIDE'],\n",
      "      dtype='object')\n",
      "WDIR WSPD GST\n",
      "Which index is WSPD at?1\n",
      "46225h2017.txt \n",
      " Index(['#YY', 'MM', 'DD', 'hh', 'mm', 'WDIR WSPD GST', 'WVHT', 'DPD', 'APD',\n",
      "       'MWD   PRES', 'ATMP', 'WTMP', 'DEWP', 'VIS', 'TIDE'],\n",
      "      dtype='object')\n",
      "WDIR WSPD GST\n",
      "Which index is WSPD at?1\n",
      "46225h2013.txt \n",
      " Index(['#YY', 'MM', 'DD', 'hh', 'mm', 'WDIR WSPD GST', 'WVHT', 'DPD', 'APD',\n",
      "       'MWD   PRES', 'ATMP', 'WTMP', 'DEWP', 'VIS', 'TIDE'],\n",
      "      dtype='object')\n",
      "WDIR WSPD GST\n",
      "Which index is WSPD at?1\n",
      "46225h2012.txt \n",
      " Index(['#YY', 'MM', 'DD', 'hh', 'mm', 'WDIR WSPD GST', 'WVHT', 'DPD', 'APD',\n",
      "       'MWD   PRES', 'ATMP', 'WTMP', 'DEWP', 'VIS', 'TIDE'],\n",
      "      dtype='object')\n",
      "WDIR WSPD GST\n",
      "Which index is WSPD at?1\n",
      "46225h2010.txt \n",
      " Index(['#YY', 'MM', 'DD', 'hh', 'mm', 'WDIR WSPD GST', 'WVHT', 'DPD', 'APD',\n",
      "       'MWD', 'PRES', 'ATMP', 'WTMP', 'DEWP', 'VIS', 'TIDE'],\n",
      "      dtype='object')\n",
      "WDIR WSPD GST\n",
      "Which index is WSPD at?1\n",
      "46225h2011.txt \n",
      " Index(['#YY', 'MM', 'DD', 'hh', 'mm', 'WDIR WSPD GST', 'WVHT', 'DPD', 'APD',\n",
      "       'MWD   PRES', 'ATMP', 'WTMP', 'DEWP', 'VIS', 'TIDE'],\n",
      "      dtype='object')\n",
      "WDIR WSPD GST\n",
      "Which index is WSPD at?1\n",
      "46225h2008.txt \n",
      " Index(['#YY', 'MM', 'DD', 'hh', 'mm', 'WDIR WSPD GST', 'WVHT', 'DPD', 'APD',\n",
      "       'MWD', 'PRES', 'ATMP', 'WTMP', 'DEWP', 'VIS', 'TIDE'],\n",
      "      dtype='object')\n",
      "WDIR WSPD GST\n",
      "Which index is WSPD at?1\n",
      "46225h2020.txt \n",
      " Index(['#YY', 'MM', 'DD', 'hh', 'mm', 'WDIR WSPD GST', 'WVHT', 'DPD', 'APD',\n",
      "       'MWD   PRES', 'ATMP', 'WTMP', 'DEWP', 'VIS', 'TIDE'],\n",
      "      dtype='object')\n",
      "WDIR WSPD GST\n",
      "Which index is WSPD at?1\n",
      "46225h2021.txt \n",
      " Index(['#YY', 'MM', 'DD', 'hh', 'mm', 'WDIR WSPD GST', 'WVHT', 'DPD', 'APD',\n",
      "       'MWD   PRES', 'ATMP', 'WTMP', 'DEWP', 'VIS', 'TIDE'],\n",
      "      dtype='object')\n",
      "WDIR WSPD GST\n",
      "Which index is WSPD at?1\n",
      "46225h2009.txt \n",
      " Index(['#YY', 'MM', 'DD', 'hh', 'mm', 'WDIR WSPD GST', 'WVHT', 'DPD', 'APD',\n",
      "       'MWD   PRES', 'ATMP', 'WTMP', 'DEWP', 'VIS', 'TIDE'],\n",
      "      dtype='object')\n",
      "WDIR WSPD GST\n",
      "Which index is WSPD at?1\n",
      "46225h2019.txt \n",
      " Index(['#YY', 'MM', 'DD', 'hh', 'mm', 'WDIR WSPD GST', 'WVHT', 'DPD', 'APD',\n",
      "       'MWD   PRES', 'ATMP', 'WTMP', 'DEWP', 'VIS', 'TIDE'],\n",
      "      dtype='object')\n",
      "WDIR WSPD GST\n",
      "Which index is WSPD at?1\n",
      "46225h2018.txt \n",
      " Index(['#YY', 'MM', 'DD', 'hh', 'mm', 'WDIR WSPD GST', 'WVHT', 'DPD', 'APD',\n",
      "       'MWD   PRES', 'ATMP', 'WTMP', 'DEWP', 'VIS', 'TIDE'],\n",
      "      dtype='object')\n",
      "WDIR WSPD GST\n",
      "Which index is WSPD at?1\n"
     ]
    }
   ],
   "source": [
    "PATH = os.getcwd()\n",
    "EXT = \"*.txt\"\n",
    "default = ['#YY', 'MM', 'DD', 'hh', 'mm']\n",
    "count = 0\n",
    "\n",
    "\n",
    "for path, subdir, files in os.walk(PATH):\n",
    "    for file in glob(os.path.join(path, EXT)):\n",
    "        if 'jordan' not in file.lower() and 'all_buoy_years' not in file.lower() and 'copy' not in file.lower() and '.txt' in file.lower():\n",
    "            if count == 0:\n",
    "                main = pd.read_fwf(file)\n",
    "                \n",
    "                print(file[-14:],'\\n',main.columns)\n",
    "                \n",
    "                if (main.columns[:5]==default).all():\n",
    "                    main[['year', 'month', 'day', 'hour', 'minute']] = main[['#YY', 'MM', 'DD', 'hh', 'mm']]\n",
    "                    if 'ATMP' in main.columns:\n",
    "                        main['air_temp'] = main['ATMP']\n",
    "                    else:\n",
    "                        main['air_temp'] = main[input(\"Select air_temp col: \\n\\n\")]\n",
    "                else:\n",
    "                    main['year'] = main[input(\"Select year col: \")]\n",
    "                    main['month'] = main[input(\"Select month col: \")]\n",
    "                    main['day'] = main[input(\"Select day col: \")]\n",
    "                    main['hour'] = main[input(\"Select hour col: \")]\n",
    "                    main['minute'] = main[input(\"Select minute col: \")]\n",
    "                    main['air_temp'] = main[input(\"Select air_temp col: \\n\\n\")]\n",
    "                \n",
    "                fix_wspd(main)\n",
    "\n",
    "\n",
    "                main = main[['year','month','day','hour','minute','WSPD','air_temp']].iloc[1:,:].astype(float)\n",
    "                count+=1\n",
    "                \n",
    "                \n",
    "                \n",
    "            else: \n",
    "                df = pd.read_fwf(file)\n",
    "                \n",
    "                print(file[-14:],'\\n',df.columns)\n",
    "                \n",
    "                if (df.columns[:5]==default).all():\n",
    "                    df[['year', 'month', 'day', 'hour', 'minute']] = df[['#YY', 'MM', 'DD', 'hh', 'mm']]\n",
    "                    if 'ATMP' in df.columns:\n",
    "                        df['air_temp'] = df['ATMP']\n",
    "                    else:\n",
    "                        df['air_temp'] = df[input(\"Select air_temp col: \\n\\n\")]\n",
    "                else:\n",
    "                    df['year'] = df[input(\"Select year col: \")]\n",
    "                    df['month'] = df[input(\"Select month col: \")]\n",
    "                    df['day'] = df[input(\"Select day col: \")]\n",
    "                    df['hour'] = df[input(\"Select hour col: \")]\n",
    "                    df['minute'] = df[input(\"Select minute col: \")]\n",
    "                    df['air_temp'] = df[input(\"Select air_temp col: \\n\\n\")]\n",
    "\n",
    "                fix_wspd(df)\n",
    "\n",
    "\n",
    "                df = df[['year','month','day','hour','minute','WSPD','air_temp']].iloc[1:,:].astype(float)\n",
    "                main = pd.concat([main,df]) \n",
    "                count+=1"
   ]
  },
  {
   "cell_type": "code",
   "execution_count": 628,
   "id": "796fec9b",
   "metadata": {},
   "outputs": [],
   "source": [
    "main = main.replace(999.0,None)\n",
    "main = main.replace(99.0,None)\n",
    "main['datetime'] = pd.to_datetime(main[['year','month','day','hour']])\n",
    "main['buoy'] = '46225 OUTER'\n",
    "main\n",
    "main.to_csv('all_buoy_years_46225.csv',index=False)"
   ]
  },
  {
   "cell_type": "code",
   "execution_count": 629,
   "id": "9927ba93",
   "metadata": {},
   "outputs": [
    {
     "data": {
      "text/plain": [
       "year             0\n",
       "month            0\n",
       "day              0\n",
       "hour             0\n",
       "minute           0\n",
       "WSPD        238373\n",
       "air_temp    238373\n",
       "datetime         0\n",
       "buoy             0\n",
       "dtype: int64"
      ]
     },
     "execution_count": 629,
     "metadata": {},
     "output_type": "execute_result"
    }
   ],
   "source": [
    "main.isna().sum()"
   ]
  },
  {
   "cell_type": "markdown",
   "id": "594154d4",
   "metadata": {},
   "source": [
    "### 073 La Jolla"
   ]
  },
  {
   "cell_type": "code",
   "execution_count": 605,
   "id": "c33ba9c5",
   "metadata": {},
   "outputs": [
    {
     "name": "stdout",
     "output_type": "stream",
     "text": [
      "/Users/karatechop\n"
     ]
    }
   ],
   "source": [
    "cd"
   ]
  },
  {
   "cell_type": "code",
   "execution_count": 606,
   "id": "d9924f60",
   "metadata": {
    "scrolled": true
   },
   "outputs": [
    {
     "name": "stdout",
     "output_type": "stream",
     "text": [
      "/Users/karatechop/Library/CloudStorage/GoogleDrive-kc1558628@berkeley.edu/My Drive/ENERES 131 FINAL PROJECT (1)/data/buoy/buoy Station LJPC1 - La Jolla, CA (073)\n"
     ]
    }
   ],
   "source": [
    "cd /Users/karatechop/Library/CloudStorage/GoogleDrive-kc1558628@berkeley.edu/My Drive/ENERES 131 FINAL PROJECT (1)/data/buoy/buoy Station LJPC1 - La Jolla, CA (073)/"
   ]
  },
  {
   "cell_type": "code",
   "execution_count": 607,
   "id": "d76b625b",
   "metadata": {
    "collapsed": true
   },
   "outputs": [
    {
     "name": "stdout",
     "output_type": "stream",
     "text": [
      "all_buoy_years_073.csv          ljpc1h2013.txt\r\n",
      "all_buoy_years_073_lajolla.csv  ljpc1h2013.txt.gz\r\n",
      "all_buoy_years_46225.csv        ljpc1h2014.txt\r\n",
      "ljpc1h2005.txt                  ljpc1h2014.txt.gz\r\n",
      "ljpc1h2005.txt.gz               ljpc1h2015.txt\r\n",
      "ljpc1h2006.txt                  ljpc1h2015.txt.gz\r\n",
      "ljpc1h2006.txt.gz               ljpc1h2016.txt\r\n",
      "ljpc1h2007.txt                  ljpc1h2016.txt.gz\r\n",
      "ljpc1h2007.txt.gz               ljpc1h2017.txt\r\n",
      "ljpc1h2008.txt                  ljpc1h2017.txt.gz\r\n",
      "ljpc1h2008.txt.gz               ljpc1h2018.txt\r\n",
      "ljpc1h2009.txt                  ljpc1h2018.txt.gz\r\n",
      "ljpc1h2009.txt.gz               ljpc1h2019.txt\r\n",
      "ljpc1h2010.txt                  ljpc1h2019.txt.gz\r\n",
      "ljpc1h2010.txt.gz               ljpc1h2020.txt\r\n",
      "ljpc1h2011.txt                  ljpc1h2020.txt.gz\r\n",
      "ljpc1h2011.txt.gz               ljpc1h2021.txt\r\n",
      "ljpc1h2012.txt                  ljpc1h2021.txt.gz\r\n",
      "ljpc1h2012.txt.gz\r\n"
     ]
    }
   ],
   "source": [
    "ls"
   ]
  },
  {
   "cell_type": "code",
   "execution_count": 609,
   "id": "15ecaa79",
   "metadata": {
    "collapsed": true
   },
   "outputs": [
    {
     "name": "stdout",
     "output_type": "stream",
     "text": [
      "ljpc1h2018.txt \n",
      " Index(['#YY', 'MM', 'DD', 'hh', 'mm', 'WDIR', 'WSPD GST', 'WVHT', 'DPD', 'APD',\n",
      "       'MWD   PRES', 'ATMP', 'WTMP', 'DEWP', 'VIS', 'TIDE'],\n",
      "      dtype='object')\n",
      "WSPD GST\n",
      "Which index is WSPD at?0\n",
      "ljpc1h2019.txt \n",
      " Index(['#YY', 'MM', 'DD', 'hh', 'mm', 'WDIR', 'WSPD GST', 'WVHT', 'DPD', 'APD',\n",
      "       'MWD   PRES', 'ATMP', 'WTMP', 'DEWP', 'VIS', 'TIDE'],\n",
      "      dtype='object')\n",
      "WSPD GST\n",
      "Which index is WSPD at?0\n",
      "ljpc1h2009.txt \n",
      " Index(['#YY', 'MM', 'DD', 'hh', 'mm', 'WDIR', 'WSPD', 'GST', 'WVHT', 'DPD',\n",
      "       'APD', 'MWD   PRES', 'ATMP', 'WTMP', 'DEWP', 'VIS', 'TIDE'],\n",
      "      dtype='object')\n",
      "ljpc1h2021.txt \n",
      " Index(['#YY', 'MM', 'DD', 'hh', 'mm', 'WDIR', 'WSPD', 'GST', 'WVHT', 'DPD',\n",
      "       'APD', 'MWD   PRES', 'ATMP', 'WTMP', 'DEWP', 'VIS', 'TIDE'],\n",
      "      dtype='object')\n",
      "ljpc1h2020.txt \n",
      " Index(['#YY', 'MM', 'DD', 'hh', 'mm', 'WDIR', 'WSPD', 'GST', 'WVHT', 'DPD',\n",
      "       'APD', 'MWD   PRES', 'ATMP', 'WTMP', 'DEWP', 'VIS', 'TIDE'],\n",
      "      dtype='object')\n",
      "ljpc1h2008.txt \n",
      " Index(['#YY', 'MM', 'DD', 'hh', 'mm', 'WDIR', 'WSPD', 'GST', 'WVHT', 'DPD',\n",
      "       'APD', 'MWD', 'PRES', 'ATMP', 'WTMP', 'DEWP', 'VIS', 'TIDE'],\n",
      "      dtype='object')\n",
      "ljpc1h2012.txt \n",
      " Index(['#YY', 'MM', 'DD', 'hh', 'mm', 'WDIR WSPD GST', 'WVHT', 'DPD', 'APD',\n",
      "       'MWD   PRES', 'ATMP', 'WTMP', 'DEWP', 'VIS', 'TIDE'],\n",
      "      dtype='object')\n",
      "WDIR WSPD GST\n",
      "Which index is WSPD at?1\n",
      "ljpc1h2006.txt \n",
      " Index(['YYYY', 'MM', 'DD', 'hh', 'mm', 'WD', 'WSPD GST', 'WVHT', 'DPD', 'APD',\n",
      "       'MWD', 'BAR', 'ATMP', 'WTMP', 'DEWP', 'VIS', 'TIDE'],\n",
      "      dtype='object')\n",
      "Select year col: YYYY\n",
      "Select month col: MM\n",
      "Select day col: DD\n",
      "Select hour col: hh\n",
      "Select minute col: mm\n",
      "Select air_temp col: \n",
      "\n",
      "ATMP\n",
      "WSPD GST\n",
      "Which index is WSPD at?0\n",
      "ljpc1h2007.txt \n",
      " Index(['#YY', 'MM', 'DD', 'hh', 'mm', 'WDIR', 'WSPD', 'GST', 'WVHT', 'DPD',\n",
      "       'APD', 'MWD   PRES', 'ATMP', 'WTMP', 'DEWP', 'VIS', 'TIDE'],\n",
      "      dtype='object')\n",
      "ljpc1h2013.txt \n",
      " Index(['#YY', 'MM', 'DD', 'hh', 'mm', 'WDIR WSPD GST', 'WVHT', 'DPD', 'APD',\n",
      "       'MWD   PRES', 'ATMP', 'WTMP', 'DEWP', 'VIS', 'TIDE'],\n",
      "      dtype='object')\n",
      "WDIR WSPD GST\n",
      "Which index is WSPD at?1\n",
      "ljpc1h2005.txt \n",
      " Index(['YYYY', 'MM', 'DD', 'hh', 'mm', 'WD', 'WSPD GST', 'WVHT', 'DPD', 'APD',\n",
      "       'MWD', 'BAR', 'ATMP', 'WTMP', 'DEWP', 'VIS', 'TIDE'],\n",
      "      dtype='object')\n",
      "Select year col: YYYY\n",
      "Select month col: MM\n",
      "Select day col: DD\n",
      "Select hour col: hh\n",
      "Select minute col: mm\n",
      "Select air_temp col: \n",
      "\n",
      "ATMP\n",
      "WSPD GST\n",
      "Which index is WSPD at?0\n",
      "ljpc1h2011.txt \n",
      " Index(['#YY', 'MM', 'DD', 'hh', 'mm', 'WDIR WSPD GST', 'WVHT', 'DPD', 'APD',\n",
      "       'MWD   PRES', 'ATMP', 'WTMP', 'DEWP', 'VIS', 'TIDE'],\n",
      "      dtype='object')\n",
      "WDIR WSPD GST\n",
      "Which index is WSPD at?1\n",
      "ljpc1h2010.txt \n",
      " Index(['#YY', 'MM', 'DD', 'hh', 'mm', 'WDIR', 'WSPD GST', 'WVHT', 'DPD', 'APD',\n",
      "       'MWD', 'PRES', 'ATMP', 'WTMP', 'DEWP', 'VIS', 'TIDE'],\n",
      "      dtype='object')\n",
      "WSPD GST\n",
      "Which index is WSPD at?0\n",
      "ljpc1h2014.txt \n",
      " Index(['#YY', 'MM', 'DD', 'hh', 'mm', 'WDIR', 'WSPD', 'GST', 'WVHT', 'DPD',\n",
      "       'APD', 'MWD   PRES', 'ATMP', 'WTMP', 'DEWP', 'VIS', 'TIDE'],\n",
      "      dtype='object')\n",
      "ljpc1h2015.txt \n",
      " Index(['#YY', 'MM', 'DD', 'hh', 'mm', 'WDIR', 'WSPD GST', 'WVHT', 'DPD', 'APD',\n",
      "       'MWD   PRES', 'ATMP', 'WTMP', 'DEWP', 'VIS', 'TIDE'],\n",
      "      dtype='object')\n",
      "WSPD GST\n",
      "Which index is WSPD at?0\n",
      "ljpc1h2017.txt \n",
      " Index(['#YY', 'MM', 'DD', 'hh', 'mm', 'WDIR WSPD GST', 'WVHT', 'DPD', 'APD',\n",
      "       'MWD   PRES', 'ATMP', 'WTMP', 'DEWP', 'VIS', 'TIDE'],\n",
      "      dtype='object')\n",
      "WDIR WSPD GST\n",
      "Which index is WSPD at?1\n",
      "ljpc1h2016.txt \n",
      " Index(['#YY', 'MM', 'DD', 'hh', 'mm', 'WDIR WSPD GST', 'WVHT', 'DPD', 'APD',\n",
      "       'MWD   PRES', 'ATMP', 'WTMP', 'DEWP', 'VIS', 'TIDE'],\n",
      "      dtype='object')\n",
      "WDIR WSPD GST\n",
      "Which index is WSPD at?1\n"
     ]
    }
   ],
   "source": [
    "PATH = os.getcwd()\n",
    "EXT = \"*.txt\"\n",
    "default = ['#YY', 'MM', 'DD', 'hh', 'mm']\n",
    "count = 0\n",
    "\n",
    "\n",
    "for path, subdir, files in os.walk(PATH):\n",
    "    for file in glob(os.path.join(path, EXT)):\n",
    "        if 'jordan' not in file.lower() and 'all_buoy_years' not in file.lower() and 'copy' not in file.lower() and '.txt' in file.lower():\n",
    "            if count == 0:\n",
    "                main = pd.read_fwf(file)\n",
    "                \n",
    "                print(file[-14:],'\\n',main.columns)\n",
    "                \n",
    "                if (main.columns[:5]==default).all():\n",
    "                    main[['year', 'month', 'day', 'hour', 'minute']] = main[['#YY', 'MM', 'DD', 'hh', 'mm']]\n",
    "                    if 'ATMP' in main.columns:\n",
    "                        main['air_temp'] = main['ATMP']\n",
    "                    else:\n",
    "                        main['air_temp'] = main[input(\"Select air_temp col: \\n\\n\")]\n",
    "                else:\n",
    "                    main['year'] = main[input(\"Select year col: \")]\n",
    "                    main['month'] = main[input(\"Select month col: \")]\n",
    "                    main['day'] = main[input(\"Select day col: \")]\n",
    "                    main['hour'] = main[input(\"Select hour col: \")]\n",
    "                    main['minute'] = main[input(\"Select minute col: \")]\n",
    "                    main['air_temp'] = main[input(\"Select air_temp col: \\n\\n\")]\n",
    "                \n",
    "                fix_wspd(main)\n",
    "\n",
    "\n",
    "                main = main[['year','month','day','hour','minute','WSPD','air_temp']].iloc[1:,:].astype(float)\n",
    "                count+=1\n",
    "                \n",
    "                \n",
    "                \n",
    "            else: \n",
    "                df = pd.read_fwf(file)\n",
    "                \n",
    "                print(file[-14:],'\\n',df.columns)\n",
    "                \n",
    "                if (df.columns[:5]==default).all():\n",
    "                    df[['year', 'month', 'day', 'hour', 'minute']] = df[['#YY', 'MM', 'DD', 'hh', 'mm']]\n",
    "                    if 'ATMP' in df.columns:\n",
    "                        df['air_temp'] = df['ATMP']\n",
    "                    else:\n",
    "                        df['air_temp'] = df[input(\"Select air_temp col: \\n\\n\")]\n",
    "                else:\n",
    "                    df['year'] = df[input(\"Select year col: \")]\n",
    "                    df['month'] = df[input(\"Select month col: \")]\n",
    "                    df['day'] = df[input(\"Select day col: \")]\n",
    "                    df['hour'] = df[input(\"Select hour col: \")]\n",
    "                    df['minute'] = df[input(\"Select minute col: \")]\n",
    "                    df['air_temp'] = df[input(\"Select air_temp col: \\n\\n\")]\n",
    "\n",
    "                fix_wspd(df)\n",
    "\n",
    "\n",
    "                df = df[['year','month','day','hour','minute','WSPD','air_temp']].iloc[1:,:].astype(float)\n",
    "                main = pd.concat([main,df]) \n",
    "                count+=1"
   ]
  },
  {
   "cell_type": "code",
   "execution_count": 610,
   "id": "23183224",
   "metadata": {},
   "outputs": [],
   "source": [
    "main = main.replace(999.0,None)\n",
    "main = main.replace(99.0,None)\n",
    "main['datetime'] = pd.to_datetime(main[['year','month','day','hour']])\n",
    "main['buoy'] = '073 INNER'\n",
    "main\n",
    "main.to_csv('all_buoy_years_073.csv',index=False)"
   ]
  },
  {
   "cell_type": "code",
   "execution_count": 611,
   "id": "ebc2b47e",
   "metadata": {
    "scrolled": true
   },
   "outputs": [
    {
     "data": {
      "text/plain": [
       "year             0\n",
       "month            0\n",
       "day              0\n",
       "hour             0\n",
       "minute           0\n",
       "WSPD         23701\n",
       "air_temp    102325\n",
       "datetime         0\n",
       "buoy             0\n",
       "dtype: int64"
      ]
     },
     "execution_count": 611,
     "metadata": {},
     "output_type": "execute_result"
    }
   ],
   "source": [
    "main.isna().sum()"
   ]
  },
  {
   "cell_type": "code",
   "execution_count": 497,
   "id": "7a226d0f",
   "metadata": {},
   "outputs": [
    {
     "data": {
      "text/plain": [
       "0.7905207045735476"
      ]
     },
     "execution_count": 497,
     "metadata": {},
     "output_type": "execute_result"
    }
   ],
   "source": [
    "main['air_temp'].isna().sum()/main['air_temp'].shape[0]"
   ]
  },
  {
   "cell_type": "markdown",
   "id": "ae7b664e",
   "metadata": {},
   "source": [
    "## Joining the Two Buoys"
   ]
  },
  {
   "cell_type": "code",
   "execution_count": 662,
   "id": "0f0d9e7c",
   "metadata": {},
   "outputs": [],
   "source": [
    "from pandas.tseries.offsets import *"
   ]
  },
  {
   "cell_type": "code",
   "execution_count": 660,
   "id": "b77f3a89",
   "metadata": {},
   "outputs": [
    {
     "name": "stdout",
     "output_type": "stream",
     "text": [
      "(727, 3) datetime            0\n",
      "WSPD_46225        727\n",
      "air_temp_46225    727\n",
      "dtype: int64\n"
     ]
    },
    {
     "data": {
      "text/html": [
       "<div>\n",
       "<style scoped>\n",
       "    .dataframe tbody tr th:only-of-type {\n",
       "        vertical-align: middle;\n",
       "    }\n",
       "\n",
       "    .dataframe tbody tr th {\n",
       "        vertical-align: top;\n",
       "    }\n",
       "\n",
       "    .dataframe thead th {\n",
       "        text-align: right;\n",
       "    }\n",
       "</style>\n",
       "<table border=\"1\" class=\"dataframe\">\n",
       "  <thead>\n",
       "    <tr style=\"text-align: right;\">\n",
       "      <th></th>\n",
       "      <th>datetime</th>\n",
       "      <th>WSPD_46225</th>\n",
       "      <th>air_temp_46225</th>\n",
       "    </tr>\n",
       "  </thead>\n",
       "  <tbody>\n",
       "    <tr>\n",
       "      <th>0</th>\n",
       "      <td>2008-01-08</td>\n",
       "      <td>NaN</td>\n",
       "      <td>NaN</td>\n",
       "    </tr>\n",
       "    <tr>\n",
       "      <th>1</th>\n",
       "      <td>2008-01-15</td>\n",
       "      <td>NaN</td>\n",
       "      <td>NaN</td>\n",
       "    </tr>\n",
       "    <tr>\n",
       "      <th>2</th>\n",
       "      <td>2008-01-22</td>\n",
       "      <td>NaN</td>\n",
       "      <td>NaN</td>\n",
       "    </tr>\n",
       "    <tr>\n",
       "      <th>3</th>\n",
       "      <td>2008-01-29</td>\n",
       "      <td>NaN</td>\n",
       "      <td>NaN</td>\n",
       "    </tr>\n",
       "    <tr>\n",
       "      <th>4</th>\n",
       "      <td>2008-02-05</td>\n",
       "      <td>NaN</td>\n",
       "      <td>NaN</td>\n",
       "    </tr>\n",
       "    <tr>\n",
       "      <th>...</th>\n",
       "      <td>...</td>\n",
       "      <td>...</td>\n",
       "      <td>...</td>\n",
       "    </tr>\n",
       "    <tr>\n",
       "      <th>722</th>\n",
       "      <td>2021-12-07</td>\n",
       "      <td>NaN</td>\n",
       "      <td>NaN</td>\n",
       "    </tr>\n",
       "    <tr>\n",
       "      <th>723</th>\n",
       "      <td>2021-12-14</td>\n",
       "      <td>NaN</td>\n",
       "      <td>NaN</td>\n",
       "    </tr>\n",
       "    <tr>\n",
       "      <th>724</th>\n",
       "      <td>2021-12-21</td>\n",
       "      <td>NaN</td>\n",
       "      <td>NaN</td>\n",
       "    </tr>\n",
       "    <tr>\n",
       "      <th>725</th>\n",
       "      <td>2021-12-28</td>\n",
       "      <td>NaN</td>\n",
       "      <td>NaN</td>\n",
       "    </tr>\n",
       "    <tr>\n",
       "      <th>726</th>\n",
       "      <td>2022-01-04</td>\n",
       "      <td>NaN</td>\n",
       "      <td>NaN</td>\n",
       "    </tr>\n",
       "  </tbody>\n",
       "</table>\n",
       "<p>727 rows × 3 columns</p>\n",
       "</div>"
      ],
      "text/plain": [
       "       datetime  WSPD_46225  air_temp_46225\n",
       "0    2008-01-08         NaN             NaN\n",
       "1    2008-01-15         NaN             NaN\n",
       "2    2008-01-22         NaN             NaN\n",
       "3    2008-01-29         NaN             NaN\n",
       "4    2008-02-05         NaN             NaN\n",
       "..          ...         ...             ...\n",
       "722  2021-12-07         NaN             NaN\n",
       "723  2021-12-14         NaN             NaN\n",
       "724  2021-12-21         NaN             NaN\n",
       "725  2021-12-28         NaN             NaN\n",
       "726  2022-01-04         NaN             NaN\n",
       "\n",
       "[727 rows x 3 columns]"
      ]
     },
     "execution_count": 660,
     "metadata": {},
     "output_type": "execute_result"
    }
   ],
   "source": [
    "torey_46225 = pd.read_csv('all_buoy_years_46225.csv')\n",
    "torey_46225['datetime'] = pd.to_datetime(torey_46225['datetime'])\n",
    "torey_46225 = torey_46225.rename(columns={'WSPD':'WSPD_46225',\n",
    "                                          'air_temp':'air_temp_46225'})[['datetime','WSPD_46225','air_temp_46225']]\n",
    "\n",
    "torey_46225['datetime'] = torey_46225['datetime'] + Week(weekday=1)\n",
    "torey_46225['datetime'] = torey_46225['datetime'].dt.strftime('%Y-%m-%d')\n",
    "torey_46225 = torey_46225.groupby(['datetime'],as_index=False).mean()\n",
    "\n",
    "print(torey_46225.shape,torey_46225.isna().sum())\n",
    "torey_46225"
   ]
  },
  {
   "cell_type": "code",
   "execution_count": 654,
   "id": "7dae0957",
   "metadata": {},
   "outputs": [
    {
     "name": "stdout",
     "output_type": "stream",
     "text": [
      "/Users/karatechop/Library/CloudStorage/GoogleDrive-kc1558628@berkeley.edu/My Drive/ENERES 131 FINAL PROJECT (1)/data/buoy/buoy Station LJPC1 - La Jolla, CA (073)\n"
     ]
    }
   ],
   "source": [
    "cd /Users/karatechop/Library/CloudStorage/GoogleDrive-kc1558628@berkeley.edu/My Drive/ENERES 131 FINAL PROJECT (1)/data/buoy/buoy Station LJPC1 - La Jolla, CA (073)/"
   ]
  },
  {
   "cell_type": "code",
   "execution_count": 656,
   "id": "6c74ee0a",
   "metadata": {},
   "outputs": [
    {
     "name": "stdout",
     "output_type": "stream",
     "text": [
      "(811, 3) datetime          0\n",
      "WSPD_073        152\n",
      "air_temp_073    636\n",
      "dtype: int64\n"
     ]
    },
    {
     "data": {
      "text/html": [
       "<div>\n",
       "<style scoped>\n",
       "    .dataframe tbody tr th:only-of-type {\n",
       "        vertical-align: middle;\n",
       "    }\n",
       "\n",
       "    .dataframe tbody tr th {\n",
       "        vertical-align: top;\n",
       "    }\n",
       "\n",
       "    .dataframe thead th {\n",
       "        text-align: right;\n",
       "    }\n",
       "</style>\n",
       "<table border=\"1\" class=\"dataframe\">\n",
       "  <thead>\n",
       "    <tr style=\"text-align: right;\">\n",
       "      <th></th>\n",
       "      <th>datetime</th>\n",
       "      <th>WSPD_073</th>\n",
       "      <th>air_temp_073</th>\n",
       "    </tr>\n",
       "  </thead>\n",
       "  <tbody>\n",
       "    <tr>\n",
       "      <th>0</th>\n",
       "      <td>2005-02-01</td>\n",
       "      <td>3.028571</td>\n",
       "      <td>12.287143</td>\n",
       "    </tr>\n",
       "    <tr>\n",
       "      <th>1</th>\n",
       "      <td>2005-02-08</td>\n",
       "      <td>3.357616</td>\n",
       "      <td>12.983444</td>\n",
       "    </tr>\n",
       "    <tr>\n",
       "      <th>2</th>\n",
       "      <td>2005-02-15</td>\n",
       "      <td>1.668712</td>\n",
       "      <td>14.219632</td>\n",
       "    </tr>\n",
       "    <tr>\n",
       "      <th>3</th>\n",
       "      <td>2005-02-22</td>\n",
       "      <td>1.421053</td>\n",
       "      <td>15.932558</td>\n",
       "    </tr>\n",
       "    <tr>\n",
       "      <th>4</th>\n",
       "      <td>2005-03-01</td>\n",
       "      <td>1.746914</td>\n",
       "      <td>14.328571</td>\n",
       "    </tr>\n",
       "    <tr>\n",
       "      <th>...</th>\n",
       "      <td>...</td>\n",
       "      <td>...</td>\n",
       "      <td>...</td>\n",
       "    </tr>\n",
       "    <tr>\n",
       "      <th>806</th>\n",
       "      <td>2022-01-04</td>\n",
       "      <td>1.923494</td>\n",
       "      <td>NaN</td>\n",
       "    </tr>\n",
       "    <tr>\n",
       "      <th>807</th>\n",
       "      <td>2022-01-11</td>\n",
       "      <td>2.817857</td>\n",
       "      <td>NaN</td>\n",
       "    </tr>\n",
       "    <tr>\n",
       "      <th>808</th>\n",
       "      <td>2022-01-18</td>\n",
       "      <td>2.691018</td>\n",
       "      <td>NaN</td>\n",
       "    </tr>\n",
       "    <tr>\n",
       "      <th>809</th>\n",
       "      <td>2022-01-25</td>\n",
       "      <td>2.910119</td>\n",
       "      <td>NaN</td>\n",
       "    </tr>\n",
       "    <tr>\n",
       "      <th>810</th>\n",
       "      <td>2022-02-01</td>\n",
       "      <td>4.397917</td>\n",
       "      <td>NaN</td>\n",
       "    </tr>\n",
       "  </tbody>\n",
       "</table>\n",
       "<p>811 rows × 3 columns</p>\n",
       "</div>"
      ],
      "text/plain": [
       "       datetime  WSPD_073  air_temp_073\n",
       "0    2005-02-01  3.028571     12.287143\n",
       "1    2005-02-08  3.357616     12.983444\n",
       "2    2005-02-15  1.668712     14.219632\n",
       "3    2005-02-22  1.421053     15.932558\n",
       "4    2005-03-01  1.746914     14.328571\n",
       "..          ...       ...           ...\n",
       "806  2022-01-04  1.923494           NaN\n",
       "807  2022-01-11  2.817857           NaN\n",
       "808  2022-01-18  2.691018           NaN\n",
       "809  2022-01-25  2.910119           NaN\n",
       "810  2022-02-01  4.397917           NaN\n",
       "\n",
       "[811 rows x 3 columns]"
      ]
     },
     "execution_count": 656,
     "metadata": {},
     "output_type": "execute_result"
    }
   ],
   "source": [
    "la_jolla_073 = pd.read_csv('all_buoy_years_073.csv')\n",
    "la_jolla_073['datetime'] = pd.to_datetime(la_jolla_073['datetime'])\n",
    "la_jolla_073 = la_jolla_073.rename(columns={'WSPD':'WSPD_073',\n",
    "                                          'air_temp':'air_temp_073'})[['datetime','WSPD_073','air_temp_073']]\n",
    "\n",
    "la_jolla_073['datetime'] = la_jolla_073['datetime'] + Week(weekday=1)\n",
    "la_jolla_073['datetime'] = la_jolla_073['datetime'].dt.strftime('%Y-%m-%d')\n",
    "la_jolla_073 = la_jolla_073.groupby(['datetime'],as_index=False).mean()\n",
    "\n",
    "print(la_jolla_073.shape,la_jolla_073.isna().sum())\n",
    "la_jolla_073"
   ]
  },
  {
   "cell_type": "code",
   "execution_count": 663,
   "id": "b761a373",
   "metadata": {},
   "outputs": [],
   "source": [
    "final = pd.merge(la_jolla_073,torey_46225,on='datetime',how='outer')\n",
    "# final['datetime'] = pd.to_datetime(final['datetime'].dt.strftime('%Y-%M'))\n",
    "final.to_csv('lj_torey_buoys.csv',index=False)"
   ]
  },
  {
   "cell_type": "code",
   "execution_count": 664,
   "id": "68ff3ec3",
   "metadata": {},
   "outputs": [
    {
     "data": {
      "text/html": [
       "<div>\n",
       "<style scoped>\n",
       "    .dataframe tbody tr th:only-of-type {\n",
       "        vertical-align: middle;\n",
       "    }\n",
       "\n",
       "    .dataframe tbody tr th {\n",
       "        vertical-align: top;\n",
       "    }\n",
       "\n",
       "    .dataframe thead th {\n",
       "        text-align: right;\n",
       "    }\n",
       "</style>\n",
       "<table border=\"1\" class=\"dataframe\">\n",
       "  <thead>\n",
       "    <tr style=\"text-align: right;\">\n",
       "      <th></th>\n",
       "      <th>datetime</th>\n",
       "      <th>WSPD_073</th>\n",
       "      <th>air_temp_073</th>\n",
       "      <th>WSPD_46225</th>\n",
       "      <th>air_temp_46225</th>\n",
       "    </tr>\n",
       "  </thead>\n",
       "  <tbody>\n",
       "    <tr>\n",
       "      <th>0</th>\n",
       "      <td>2005-02-01</td>\n",
       "      <td>3.028571</td>\n",
       "      <td>12.287143</td>\n",
       "      <td>NaN</td>\n",
       "      <td>NaN</td>\n",
       "    </tr>\n",
       "    <tr>\n",
       "      <th>1</th>\n",
       "      <td>2005-02-08</td>\n",
       "      <td>3.357616</td>\n",
       "      <td>12.983444</td>\n",
       "      <td>NaN</td>\n",
       "      <td>NaN</td>\n",
       "    </tr>\n",
       "    <tr>\n",
       "      <th>2</th>\n",
       "      <td>2005-02-15</td>\n",
       "      <td>1.668712</td>\n",
       "      <td>14.219632</td>\n",
       "      <td>NaN</td>\n",
       "      <td>NaN</td>\n",
       "    </tr>\n",
       "    <tr>\n",
       "      <th>3</th>\n",
       "      <td>2005-02-22</td>\n",
       "      <td>1.421053</td>\n",
       "      <td>15.932558</td>\n",
       "      <td>NaN</td>\n",
       "      <td>NaN</td>\n",
       "    </tr>\n",
       "    <tr>\n",
       "      <th>4</th>\n",
       "      <td>2005-03-01</td>\n",
       "      <td>1.746914</td>\n",
       "      <td>14.328571</td>\n",
       "      <td>NaN</td>\n",
       "      <td>NaN</td>\n",
       "    </tr>\n",
       "    <tr>\n",
       "      <th>...</th>\n",
       "      <td>...</td>\n",
       "      <td>...</td>\n",
       "      <td>...</td>\n",
       "      <td>...</td>\n",
       "      <td>...</td>\n",
       "    </tr>\n",
       "    <tr>\n",
       "      <th>877</th>\n",
       "      <td>2010-12-21</td>\n",
       "      <td>NaN</td>\n",
       "      <td>NaN</td>\n",
       "      <td>NaN</td>\n",
       "      <td>NaN</td>\n",
       "    </tr>\n",
       "    <tr>\n",
       "      <th>878</th>\n",
       "      <td>2012-10-16</td>\n",
       "      <td>NaN</td>\n",
       "      <td>NaN</td>\n",
       "      <td>NaN</td>\n",
       "      <td>NaN</td>\n",
       "    </tr>\n",
       "    <tr>\n",
       "      <th>879</th>\n",
       "      <td>2013-02-19</td>\n",
       "      <td>NaN</td>\n",
       "      <td>NaN</td>\n",
       "      <td>NaN</td>\n",
       "      <td>NaN</td>\n",
       "    </tr>\n",
       "    <tr>\n",
       "      <th>880</th>\n",
       "      <td>2013-02-26</td>\n",
       "      <td>NaN</td>\n",
       "      <td>NaN</td>\n",
       "      <td>NaN</td>\n",
       "      <td>NaN</td>\n",
       "    </tr>\n",
       "    <tr>\n",
       "      <th>881</th>\n",
       "      <td>2015-09-15</td>\n",
       "      <td>NaN</td>\n",
       "      <td>NaN</td>\n",
       "      <td>NaN</td>\n",
       "      <td>NaN</td>\n",
       "    </tr>\n",
       "  </tbody>\n",
       "</table>\n",
       "<p>882 rows × 5 columns</p>\n",
       "</div>"
      ],
      "text/plain": [
       "       datetime  WSPD_073  air_temp_073  WSPD_46225  air_temp_46225\n",
       "0    2005-02-01  3.028571     12.287143         NaN             NaN\n",
       "1    2005-02-08  3.357616     12.983444         NaN             NaN\n",
       "2    2005-02-15  1.668712     14.219632         NaN             NaN\n",
       "3    2005-02-22  1.421053     15.932558         NaN             NaN\n",
       "4    2005-03-01  1.746914     14.328571         NaN             NaN\n",
       "..          ...       ...           ...         ...             ...\n",
       "877  2010-12-21       NaN           NaN         NaN             NaN\n",
       "878  2012-10-16       NaN           NaN         NaN             NaN\n",
       "879  2013-02-19       NaN           NaN         NaN             NaN\n",
       "880  2013-02-26       NaN           NaN         NaN             NaN\n",
       "881  2015-09-15       NaN           NaN         NaN             NaN\n",
       "\n",
       "[882 rows x 5 columns]"
      ]
     },
     "execution_count": 664,
     "metadata": {},
     "output_type": "execute_result"
    }
   ],
   "source": [
    "final"
   ]
  }
 ],
 "metadata": {
  "kernelspec": {
   "display_name": "Python 3 (ipykernel)",
   "language": "python",
   "name": "python3"
  },
  "language_info": {
   "codemirror_mode": {
    "name": "ipython",
    "version": 3
   },
   "file_extension": ".py",
   "mimetype": "text/x-python",
   "name": "python",
   "nbconvert_exporter": "python",
   "pygments_lexer": "ipython3",
   "version": "3.9.12"
  }
 },
 "nbformat": 4,
 "nbformat_minor": 5
}
