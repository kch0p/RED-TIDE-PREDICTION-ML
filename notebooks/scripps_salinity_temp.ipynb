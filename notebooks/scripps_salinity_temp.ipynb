{
 "cells": [
  {
   "cell_type": "code",
   "execution_count": 6,
   "id": "a2a3ec68",
   "metadata": {},
   "outputs": [],
   "source": [
    "import pandas as pd\n",
    "import numpy as np\n",
    "import os\n",
    "from glob import glob\n",
    "import sys\n",
    "import warnings\n",
    "from time import time"
   ]
  },
  {
   "cell_type": "code",
   "execution_count": 53,
   "id": "2d308025",
   "metadata": {},
   "outputs": [
    {
     "name": "stdout",
     "output_type": "stream",
     "text": [
      "/Users/karatechop/Library/CloudStorage/GoogleDrive-kc1558628@berkeley.edu/My Drive/ENERES 131 FINAL PROJECT (1)/data/original 100 year scripps temp data/bb4003017c_1_1(2)\n"
     ]
    }
   ],
   "source": [
    "cd /Users/karatechop/Library/CloudStorage/GoogleDrive-kc1558628@berkeley.edu/My Drive/ENERES 131 FINAL PROJECT (1)/data/original 100 year scripps temp data/bb4003017c_1_1(2)"
   ]
  },
  {
   "cell_type": "code",
   "execution_count": 56,
   "id": "354d70d3",
   "metadata": {},
   "outputs": [
    {
     "name": "stdout",
     "output_type": "stream",
     "text": [
      "LaJolla_SALT_1916-202112(MODIFIED_FOR_PROJECT).csv\r\n",
      "\u001b[31mLaJolla_SALT_1916-202112.csv\u001b[m\u001b[m*\r\n",
      "\u001b[31mLaJolla_SALT_1916-202112.xls\u001b[m\u001b[m*\r\n",
      "LaJolla_TEMP_1916-202112(MODIFIED_FOR_PROJECT).csv\r\n",
      "\u001b[31mLaJolla_TEMP_1916-202112.csv\u001b[m\u001b[m*\r\n",
      "\u001b[31mLaJolla_TEMP_1916-202112.xls\u001b[m\u001b[m*\r\n"
     ]
    }
   ],
   "source": [
    "ls"
   ]
  },
  {
   "cell_type": "code",
   "execution_count": 72,
   "id": "01d44c0a",
   "metadata": {},
   "outputs": [
    {
     "data": {
      "text/html": [
       "<div>\n",
       "<style scoped>\n",
       "    .dataframe tbody tr th:only-of-type {\n",
       "        vertical-align: middle;\n",
       "    }\n",
       "\n",
       "    .dataframe tbody tr th {\n",
       "        vertical-align: top;\n",
       "    }\n",
       "\n",
       "    .dataframe thead th {\n",
       "        text-align: right;\n",
       "    }\n",
       "</style>\n",
       "<table border=\"1\" class=\"dataframe\">\n",
       "  <thead>\n",
       "    <tr style=\"text-align: right;\">\n",
       "      <th></th>\n",
       "      <th>datetime</th>\n",
       "      <th>SURF_TEMP_C</th>\n",
       "      <th>SURF_SAL_PSU</th>\n",
       "    </tr>\n",
       "  </thead>\n",
       "  <tbody>\n",
       "    <tr>\n",
       "      <th>0</th>\n",
       "      <td>2008-01-01</td>\n",
       "      <td>13.9</td>\n",
       "      <td>33.54</td>\n",
       "    </tr>\n",
       "    <tr>\n",
       "      <th>1</th>\n",
       "      <td>2008-01-02</td>\n",
       "      <td>13.4</td>\n",
       "      <td>33.57</td>\n",
       "    </tr>\n",
       "    <tr>\n",
       "      <th>2</th>\n",
       "      <td>2008-01-03</td>\n",
       "      <td>13.4</td>\n",
       "      <td>33.58</td>\n",
       "    </tr>\n",
       "    <tr>\n",
       "      <th>3</th>\n",
       "      <td>2008-01-04</td>\n",
       "      <td>14.3</td>\n",
       "      <td>33.55</td>\n",
       "    </tr>\n",
       "    <tr>\n",
       "      <th>4</th>\n",
       "      <td>2008-01-05</td>\n",
       "      <td>14.2</td>\n",
       "      <td>33.42</td>\n",
       "    </tr>\n",
       "    <tr>\n",
       "      <th>...</th>\n",
       "      <td>...</td>\n",
       "      <td>...</td>\n",
       "      <td>...</td>\n",
       "    </tr>\n",
       "    <tr>\n",
       "      <th>5109</th>\n",
       "      <td>2021-12-27</td>\n",
       "      <td>15.1</td>\n",
       "      <td>33.47</td>\n",
       "    </tr>\n",
       "    <tr>\n",
       "      <th>5110</th>\n",
       "      <td>2021-12-28</td>\n",
       "      <td>14.8</td>\n",
       "      <td>33.29</td>\n",
       "    </tr>\n",
       "    <tr>\n",
       "      <th>5111</th>\n",
       "      <td>2021-12-29</td>\n",
       "      <td>15.0</td>\n",
       "      <td>33.40</td>\n",
       "    </tr>\n",
       "    <tr>\n",
       "      <th>5112</th>\n",
       "      <td>2021-12-30</td>\n",
       "      <td>15.1</td>\n",
       "      <td>33.42</td>\n",
       "    </tr>\n",
       "    <tr>\n",
       "      <th>5113</th>\n",
       "      <td>2021-12-31</td>\n",
       "      <td>15.4</td>\n",
       "      <td>33.42</td>\n",
       "    </tr>\n",
       "  </tbody>\n",
       "</table>\n",
       "<p>5114 rows × 3 columns</p>\n",
       "</div>"
      ],
      "text/plain": [
       "       datetime  SURF_TEMP_C  SURF_SAL_PSU\n",
       "0    2008-01-01         13.9         33.54\n",
       "1    2008-01-02         13.4         33.57\n",
       "2    2008-01-03         13.4         33.58\n",
       "3    2008-01-04         14.3         33.55\n",
       "4    2008-01-05         14.2         33.42\n",
       "...         ...          ...           ...\n",
       "5109 2021-12-27         15.1         33.47\n",
       "5110 2021-12-28         14.8         33.29\n",
       "5111 2021-12-29         15.0         33.40\n",
       "5112 2021-12-30         15.1         33.42\n",
       "5113 2021-12-31         15.4         33.42\n",
       "\n",
       "[5114 rows x 3 columns]"
      ]
     },
     "execution_count": 72,
     "metadata": {},
     "output_type": "execute_result"
    }
   ],
   "source": [
    "scripps_100_temp = pd.read_csv('LaJolla_TEMP_1916-202112(MODIFIED_FOR_PROJECT).csv')\n",
    "scripps_100_temp['datetime'] = pd.to_datetime(scripps_100_temp[['YEAR', 'MONTH', 'DAY']])\n",
    "scripps_100_temp = scripps_100_temp[['datetime','SURF_TEMP_C']]\n",
    "scripps_100_temp\n",
    "\n",
    "scripps_100_salinity = pd.read_csv('LaJolla_SALT_1916-202112(MODIFIED_FOR_PROJECT).csv')\n",
    "scripps_100_salinity['datetime'] = pd.to_datetime(scripps_100_salinity[['YEAR', 'MONTH', 'DAY']])\n",
    "scripps_100_salinity = scripps_100_salinity[['datetime','SURF_SAL_PSU']]\n",
    "\n",
    "scripps_100_joined = pd.merge(scripps_100_temp,scripps_100_salinity,how='outer')\n",
    "scripps_100_joined = scripps_100_joined[scripps_100_joined['datetime']>='2008-01-01'].reset_index(drop=True)\n",
    "scripps_100_joined"
   ]
  },
  {
   "cell_type": "code",
   "execution_count": 78,
   "id": "e5c558c6",
   "metadata": {},
   "outputs": [],
   "source": [
    "from pandas.tseries.offsets import *"
   ]
  },
  {
   "cell_type": "code",
   "execution_count": 81,
   "id": "ebea3fa0",
   "metadata": {},
   "outputs": [
    {
     "data": {
      "text/html": [
       "<div>\n",
       "<style scoped>\n",
       "    .dataframe tbody tr th:only-of-type {\n",
       "        vertical-align: middle;\n",
       "    }\n",
       "\n",
       "    .dataframe tbody tr th {\n",
       "        vertical-align: top;\n",
       "    }\n",
       "\n",
       "    .dataframe thead th {\n",
       "        text-align: right;\n",
       "    }\n",
       "</style>\n",
       "<table border=\"1\" class=\"dataframe\">\n",
       "  <thead>\n",
       "    <tr style=\"text-align: right;\">\n",
       "      <th></th>\n",
       "      <th>datetime</th>\n",
       "      <th>SURF_TEMP_C</th>\n",
       "      <th>SURF_SAL_PSU</th>\n",
       "    </tr>\n",
       "  </thead>\n",
       "  <tbody>\n",
       "    <tr>\n",
       "      <th>0</th>\n",
       "      <td>2008-01-15</td>\n",
       "      <td>13.842857</td>\n",
       "      <td>33.510000</td>\n",
       "    </tr>\n",
       "    <tr>\n",
       "      <th>1</th>\n",
       "      <td>2008-01-22</td>\n",
       "      <td>14.016667</td>\n",
       "      <td>33.490000</td>\n",
       "    </tr>\n",
       "    <tr>\n",
       "      <th>2</th>\n",
       "      <td>2008-01-29</td>\n",
       "      <td>13.928571</td>\n",
       "      <td>33.394286</td>\n",
       "    </tr>\n",
       "    <tr>\n",
       "      <th>3</th>\n",
       "      <td>2008-02-05</td>\n",
       "      <td>13.566667</td>\n",
       "      <td>33.473333</td>\n",
       "    </tr>\n",
       "    <tr>\n",
       "      <th>4</th>\n",
       "      <td>2008-02-12</td>\n",
       "      <td>13.766667</td>\n",
       "      <td>33.430000</td>\n",
       "    </tr>\n",
       "    <tr>\n",
       "      <th>...</th>\n",
       "      <td>...</td>\n",
       "      <td>...</td>\n",
       "      <td>...</td>\n",
       "    </tr>\n",
       "    <tr>\n",
       "      <th>726</th>\n",
       "      <td>2021-12-14</td>\n",
       "      <td>16.942857</td>\n",
       "      <td>33.540000</td>\n",
       "    </tr>\n",
       "    <tr>\n",
       "      <th>727</th>\n",
       "      <td>2021-12-21</td>\n",
       "      <td>15.983333</td>\n",
       "      <td>33.515000</td>\n",
       "    </tr>\n",
       "    <tr>\n",
       "      <th>728</th>\n",
       "      <td>2021-12-28</td>\n",
       "      <td>15.583333</td>\n",
       "      <td>33.470000</td>\n",
       "    </tr>\n",
       "    <tr>\n",
       "      <th>729</th>\n",
       "      <td>2022-01-04</td>\n",
       "      <td>15.228571</td>\n",
       "      <td>33.471429</td>\n",
       "    </tr>\n",
       "    <tr>\n",
       "      <th>730</th>\n",
       "      <td>2022-01-11</td>\n",
       "      <td>15.075000</td>\n",
       "      <td>33.382500</td>\n",
       "    </tr>\n",
       "  </tbody>\n",
       "</table>\n",
       "<p>731 rows × 3 columns</p>\n",
       "</div>"
      ],
      "text/plain": [
       "       datetime  SURF_TEMP_C  SURF_SAL_PSU\n",
       "0    2008-01-15    13.842857     33.510000\n",
       "1    2008-01-22    14.016667     33.490000\n",
       "2    2008-01-29    13.928571     33.394286\n",
       "3    2008-02-05    13.566667     33.473333\n",
       "4    2008-02-12    13.766667     33.430000\n",
       "..          ...          ...           ...\n",
       "726  2021-12-14    16.942857     33.540000\n",
       "727  2021-12-21    15.983333     33.515000\n",
       "728  2021-12-28    15.583333     33.470000\n",
       "729  2022-01-04    15.228571     33.471429\n",
       "730  2022-01-11    15.075000     33.382500\n",
       "\n",
       "[731 rows x 3 columns]"
      ]
     },
     "execution_count": 81,
     "metadata": {},
     "output_type": "execute_result"
    }
   ],
   "source": [
    "scripps_100_joined['datetime'] = pd.to_datetime(scripps_100_joined['datetime'])\n",
    "scripps_100_joined['datetime'] = scripps_100_joined['datetime'] + Week(weekday=1)\n",
    "scripps_100_joined['datetime'] = scripps_100_joined['datetime'].dt.strftime('%Y-%m-%d')\n",
    "scripps_100_joined = scripps_100_joined.groupby(['datetime'],as_index=False).mean()\n",
    "scripps_100_joined"
   ]
  },
  {
   "cell_type": "code",
   "execution_count": 84,
   "id": "5bc44ba7",
   "metadata": {},
   "outputs": [],
   "source": [
    "scripps_100_joined.to_csv('scripps_temp_sal_2008-2021.csv',index=False)"
   ]
  },
  {
   "cell_type": "code",
   "execution_count": 85,
   "id": "4880b459",
   "metadata": {},
   "outputs": [
    {
     "name": "stdout",
     "output_type": "stream",
     "text": [
      "LaJolla_SALT_1916-202112(MODIFIED_FOR_PROJECT).csv\r\n",
      "\u001b[31mLaJolla_SALT_1916-202112.csv\u001b[m\u001b[m*\r\n",
      "\u001b[31mLaJolla_SALT_1916-202112.xls\u001b[m\u001b[m*\r\n",
      "LaJolla_TEMP_1916-202112(MODIFIED_FOR_PROJECT).csv\r\n",
      "\u001b[31mLaJolla_TEMP_1916-202112.csv\u001b[m\u001b[m*\r\n",
      "\u001b[31mLaJolla_TEMP_1916-202112.xls\u001b[m\u001b[m*\r\n",
      "scripps_temp_sal_2005-2021.csv\r\n",
      "scripps_temp_sal_2008-2021.csv\r\n"
     ]
    }
   ],
   "source": [
    "ls"
   ]
  },
  {
   "cell_type": "code",
   "execution_count": null,
   "id": "caa31832",
   "metadata": {},
   "outputs": [],
   "source": []
  }
 ],
 "metadata": {
  "kernelspec": {
   "display_name": "Python 3 (ipykernel)",
   "language": "python",
   "name": "python3"
  },
  "language_info": {
   "codemirror_mode": {
    "name": "ipython",
    "version": 3
   },
   "file_extension": ".py",
   "mimetype": "text/x-python",
   "name": "python",
   "nbconvert_exporter": "python",
   "pygments_lexer": "ipython3",
   "version": "3.9.12"
  }
 },
 "nbformat": 4,
 "nbformat_minor": 5
}
