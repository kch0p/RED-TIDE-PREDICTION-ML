{
 "cells": [
  {
   "cell_type": "code",
   "execution_count": 6,
   "id": "a2a3ec68",
   "metadata": {},
   "outputs": [],
   "source": [
    "import pandas as pd\n",
    "import numpy as np\n",
    "import os\n",
    "from glob import glob\n",
    "import sys\n",
    "import warnings\n",
    "from time import time"
   ]
  },
  {
   "cell_type": "code",
   "execution_count": 53,
   "id": "2d308025",
   "metadata": {},
   "outputs": [
    {
     "name": "stdout",
     "output_type": "stream",
     "text": [
      "/Users/karatechop/Library/CloudStorage/GoogleDrive-kc1558628@berkeley.edu/My Drive/ENERES 131 FINAL PROJECT (1)/data/original 100 year scripps temp data/bb4003017c_1_1(2)\n"
     ]
    }
   ],
   "source": [
    "cd /Users/karatechop/Library/CloudStorage/GoogleDrive-kc1558628@berkeley.edu/My Drive/ENERES 131 FINAL PROJECT (1)/data/original 100 year scripps temp data/bb4003017c_1_1(2)"
   ]
  },
  {
   "cell_type": "code",
   "execution_count": 56,
   "id": "354d70d3",
   "metadata": {},
   "outputs": [
    {
     "name": "stdout",
     "output_type": "stream",
     "text": [
      "LaJolla_SALT_1916-202112(MODIFIED_FOR_PROJECT).csv\r\n",
      "\u001b[31mLaJolla_SALT_1916-202112.csv\u001b[m\u001b[m*\r\n",
      "\u001b[31mLaJolla_SALT_1916-202112.xls\u001b[m\u001b[m*\r\n",
      "LaJolla_TEMP_1916-202112(MODIFIED_FOR_PROJECT).csv\r\n",
      "\u001b[31mLaJolla_TEMP_1916-202112.csv\u001b[m\u001b[m*\r\n",
      "\u001b[31mLaJolla_TEMP_1916-202112.xls\u001b[m\u001b[m*\r\n"
     ]
    }
   ],
   "source": [
    "ls"
   ]
  },
  {
   "cell_type": "code",
   "execution_count": 72,
   "id": "01d44c0a",
   "metadata": {},
   "outputs": [
    {
     "data": {
      "text/html": [
       "<div>\n",
       "<style scoped>\n",
       "    .dataframe tbody tr th:only-of-type {\n",
       "        vertical-align: middle;\n",
       "    }\n",
       "\n",
       "    .dataframe tbody tr th {\n",
       "        vertical-align: top;\n",
       "    }\n",
       "\n",
       "    .dataframe thead th {\n",
       "        text-align: right;\n",
       "    }\n",
       "</style>\n",
       "<table border=\"1\" class=\"dataframe\">\n",
       "  <thead>\n",
       "    <tr style=\"text-align: right;\">\n",
       "      <th></th>\n",
       "      <th>datetime</th>\n",
       "      <th>SURF_TEMP_C</th>\n",
       "      <th>SURF_SAL_PSU</th>\n",
       "    </tr>\n",
       "  </thead>\n",
       "  <tbody>\n",
       "    <tr>\n",
       "      <th>0</th>\n",
       "      <td>2008-01-01</td>\n",
       "      <td>13.9</td>\n",
       "      <td>33.54</td>\n",
       "    </tr>\n",
       "    <tr>\n",
       "      <th>1</th>\n",
       "      <td>2008-01-02</td>\n",
       "      <td>13.4</td>\n",
       "      <td>33.57</td>\n",
       "    </tr>\n",
       "    <tr>\n",
       "      <th>2</th>\n",
       "      <td>2008-01-03</td>\n",
       "      <td>13.4</td>\n",
       "      <td>33.58</td>\n",
       "    </tr>\n",
       "    <tr>\n",
       "      <th>3</th>\n",
       "      <td>2008-01-04</td>\n",
       "      <td>14.3</td>\n",
       "      <td>33.55</td>\n",
       "    </tr>\n",
       "    <tr>\n",
       "      <th>4</th>\n",
       "      <td>2008-01-05</td>\n",
       "      <td>14.2</td>\n",
       "      <td>33.42</td>\n",
       "    </tr>\n",
       "    <tr>\n",
       "      <th>...</th>\n",
       "      <td>...</td>\n",
       "      <td>...</td>\n",
       "      <td>...</td>\n",
       "    </tr>\n",
       "    <tr>\n",
       "      <th>5109</th>\n",
       "      <td>2021-12-27</td>\n",
       "      <td>15.1</td>\n",
       "      <td>33.47</td>\n",
       "    </tr>\n",
       "    <tr>\n",
       "      <th>5110</th>\n",
       "      <td>2021-12-28</td>\n",
       "      <td>14.8</td>\n",
       "      <td>33.29</td>\n",
       "    </tr>\n",
       "    <tr>\n",
       "      <th>5111</th>\n",
       "      <td>2021-12-29</td>\n",
       "      <td>15.0</td>\n",
       "      <td>33.40</td>\n",
       "    </tr>\n",
       "    <tr>\n",
       "      <th>5112</th>\n",
       "      <td>2021-12-30</td>\n",
       "      <td>15.1</td>\n",
       "      <td>33.42</td>\n",
       "    </tr>\n",
       "    <tr>\n",
       "      <th>5113</th>\n",
       "      <td>2021-12-31</td>\n",
       "      <td>15.4</td>\n",
       "      <td>33.42</td>\n",
       "    </tr>\n",
       "  </tbody>\n",
       "</table>\n",
       "<p>5114 rows × 3 columns</p>\n",
       "</div>"
      ],
      "text/plain": [
       "       datetime  SURF_TEMP_C  SURF_SAL_PSU\n",
       "0    2008-01-01         13.9         33.54\n",
       "1    2008-01-02         13.4         33.57\n",
       "2    2008-01-03         13.4         33.58\n",
       "3    2008-01-04         14.3         33.55\n",
       "4    2008-01-05         14.2         33.42\n",
       "...         ...          ...           ...\n",
       "5109 2021-12-27         15.1         33.47\n",
       "5110 2021-12-28         14.8         33.29\n",
       "5111 2021-12-29         15.0         33.40\n",
       "5112 2021-12-30         15.1         33.42\n",
       "5113 2021-12-31         15.4         33.42\n",
       "\n",
       "[5114 rows x 3 columns]"
      ]
     },
     "execution_count": 72,
     "metadata": {},
     "output_type": "execute_result"
    }
   ],
   "source": [
    "scripps_100_temp = pd.read_csv('LaJolla_TEMP_1916-202112(MODIFIED_FOR_PROJECT).csv')\n",
    "scripps_100_temp['datetime'] = pd.to_datetime(scripps_100_temp[['YEAR', 'MONTH', 'DAY']])\n",
    "scripps_100_temp = scripps_100_temp[['datetime','SURF_TEMP_C']]\n",
    "scripps_100_temp\n",
    "\n",
    "scripps_100_salinity = pd.read_csv('LaJolla_SALT_1916-202112(MODIFIED_FOR_PROJECT).csv')\n",
    "scripps_100_salinity['datetime'] = pd.to_datetime(scripps_100_salinity[['YEAR', 'MONTH', 'DAY']])\n",
    "scripps_100_salinity = scripps_100_salinity[['datetime','SURF_SAL_PSU']]\n",
    "\n",
    "scripps_100_joined = pd.merge(scripps_100_temp,scripps_100_salinity,how='outer')\n",
    "scripps_100_joined = scripps_100_joined[scripps_100_joined['datetime']>='2008-01-01'].reset_index(drop=True)\n",
    "scripps_100_joined"
   ]
  },
  {
   "cell_type": "code",
   "execution_count": 76,
   "id": "5bc44ba7",
   "metadata": {},
   "outputs": [],
   "source": [
    "scripps_100_joined.to_csv('scripps_temp_sal_2005-2021.csv',index=False)"
   ]
  }
 ],
 "metadata": {
  "kernelspec": {
   "display_name": "Python 3 (ipykernel)",
   "language": "python",
   "name": "python3"
  },
  "language_info": {
   "codemirror_mode": {
    "name": "ipython",
    "version": 3
   },
   "file_extension": ".py",
   "mimetype": "text/x-python",
   "name": "python",
   "nbconvert_exporter": "python",
   "pygments_lexer": "ipython3",
   "version": "3.9.12"
  }
 },
 "nbformat": 4,
 "nbformat_minor": 5
}
